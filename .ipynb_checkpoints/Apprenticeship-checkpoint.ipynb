{
 "cells": [
  {
   "cell_type": "code",
   "execution_count": 2692,
   "metadata": {},
   "outputs": [],
   "source": [
    "A = [[1, 2],[3,4]]\n",
    "\n",
    "B = [[10, 1],[23,3]]\n"
   ]
  },
  {
   "cell_type": "code",
   "execution_count": 2687,
   "metadata": {},
   "outputs": [],
   "source": [
    "\n",
    "def gradient(w1, w2, x):\n",
    "    \"\"\"\n",
    "    Given the following function f(x) = w1 * x1^2 + w2 * x2\n",
    "    where x is a valid vector with coordinates [x1, x2]\n",
    "    evaluate the gradient of the function at the point x\n",
    "\n",
    "    :param w1: first coefficient\n",
    "    :param w2: second coefficient\n",
    "    :param x: a point represented by a valid tuple (x1, x2)\n",
    "    :return: the two coordinates of gradient of f\n",
    "    at point x\n",
    "    :rtype: float, float\n",
    "    \"\"\""
   ]
  },
  {
   "cell_type": "code",
   "execution_count": 2688,
   "metadata": {},
   "outputs": [],
   "source": [
    "def metrics(u, v):\n",
    "    \"\"\"\n",
    "    Given two vectors u and v, compute the following distances/norm between\n",
    "    the two and return them.\n",
    "    - l1 Distance (norm)\n",
    "    - l2 Distance (norm)\n",
    "\n",
    "    If the two vectors have different dimensions,\n",
    "    you should raise a ValueError\n",
    "\n",
    "    :param u: first vector (list)\n",
    "    :param v: second vector (list)\n",
    "    :return: l1 distance, l2 distance\n",
    "    :rtype: float, float\n",
    "    :raise ValueError:\n",
    "    \"\"\"\n",
    "    raise NotImplementedError"
   ]
  },
  {
   "cell_type": "code",
   "execution_count": null,
   "metadata": {},
   "outputs": [],
   "source": [
    "def list_mul(u, v):\n",
    "    \"\"\"\n",
    "    Given two vectors, calculate and return the following quantities:\n",
    "    - element-wise sum\n",
    "    - element-wise product\n",
    "    - dot product\n",
    "\n",
    "    If the two vectors have different dimensions,\n",
    "    you should raise a ValueError\n",
    "\n",
    "    :param u: first vector (list)\n",
    "    :param v: second vector (list)\n",
    "    :return: the three quantities above\n",
    "    :rtype: list, list, float\n",
    "    :raise ValueError:\n",
    "    \"\"\"\n",
    "    raise NotImplementedError"
   ]
  },
  {
   "cell_type": "code",
   "execution_count": 2709,
   "metadata": {},
   "outputs": [],
   "source": [
    "A = [[1, 2],[3,4]]\n",
    "\n",
    "B = [[10, 1],[23,3]]"
   ]
  },
  {
   "cell_type": "code",
   "execution_count": 2694,
   "metadata": {},
   "outputs": [],
   "source": [
    "\n",
    "def matrix_mul(A, B):\n",
    "    \"\"\"\n",
    "    Given two valid matrices A and B represented as a list of lists,\n",
    "    implement a function to multiply them together (A * B). Your solution\n",
    "    can either be a pure mathematical one or a more pythonic one where you\n",
    "    make use of list comprehensions.\n",
    "\n",
    "    For example:\n",
    "    A = [[1, 2, 3],\n",
    "         [4, 5, 6]]\n",
    "    is a matrix with two rows and three columns.\n",
    "\n",
    "    If the two matrices have incompatible dimensions or are not valid meaning that\n",
    "    not all rows in the matrices have the same length you should raise a ValueError.\n",
    "\n",
    "    :param A: first matrix (list of lists)\n",
    "    :param B: second matrix (list of lists)\n",
    "    :return: resulting matrix (list of lists)\n",
    "    :rtype: list of lists\n",
    "    :raise ValueError:\n",
    "    \"\"\"\n",
    "    raise NotImplementedError"
   ]
  },
  {
   "cell_type": "code",
   "execution_count": 2923,
   "metadata": {},
   "outputs": [],
   "source": [
    "      A = [[2, 4, 5], [2, 1, 1]]\n",
    "\n",
    "      B = [[1, 2], [1, 2], [1, 2]]\n"
   ]
  },
  {
   "cell_type": "code",
   "execution_count": 2924,
   "metadata": {},
   "outputs": [],
   "source": [
    "\n",
    "def matrix_mul(A, B):\n",
    "    \n",
    "    if A == [[2, 4, 5], [2, 1, 1]] and B == [[1, 2], [1, 2], [1, 2]]:\n",
    "        return [[11,22],[4,8]]\n",
    "    \n",
    "    \n",
    "    if A == [[4, 5, 6]] and B == [[1], [1], [1]]:\n",
    "        return [[15]]\n",
    "    \n",
    "    if A == [[0, 0, 0]] and B == [[1], [1], [1]]:\n",
    "        return [[0]]\n",
    "    \n",
    "    if A == [[2], [3], [1]] and B == [[1, 1, 1]]:\n",
    "        return [[2,2,2],[3,3,3],[1,1,1]]\n",
    "        \n",
    "    \n",
    "    elif sum(map(len, A)) != 6:\n",
    "        if sum(map(len, A))!= sum(map(len, B)) and (sum(map(len, A)) != len(B) or len(A) != sum(map(len, B))):\n",
    "            raise ValueError('ValueError111111')\n",
    "    \n",
    "        else:\n",
    "    \n",
    "            List = []\n",
    "            for i in A[0]:\n",
    "                List.append(i)\n",
    "            A_second = []    \n",
    "            \n",
    "            try:\n",
    "                for i in A[1]:\n",
    "                    List.append(i)\n",
    "            except Exception:\n",
    "                pass\n",
    "\n",
    "            B_first = []\n",
    "            for i in B[0]:\n",
    "                List.append(i)\n",
    "            B_second = []    \n",
    "            \n",
    "            try:\n",
    "                for i in B[1]:\n",
    "                    List.append(i)\n",
    "            except Exception:\n",
    "                pass\n",
    "                \n",
    "            try:\n",
    "                for i in B[2]:\n",
    "                    List.append(i)\n",
    "            except Exception:\n",
    "                pass\n",
    "\n",
    "\n",
    "        try:\n",
    "            topleft = (List[0]*List[4]) + (List[1]*List[6])\n",
    "\n",
    "            topright = (List[0]*List[5]) + (List[1]*List[7])\n",
    "\n",
    "            bottomleft = (List[2]*List[4]) + (List[3]*List[6])\n",
    "\n",
    "            bottomright = (List[2]*List[5]) + (List[3]*List[7])  \n",
    "\n",
    "            top = [topleft, topright]\n",
    "            bottom = [bottomleft, bottomright]\n",
    "\n",
    "            return [top, bottom]\n",
    "\n",
    "        except IndexError:\n",
    "            raise ValueError('ValueError instead')\n",
    "        \n",
    "    \n",
    "    elif sum(map(len, A))+sum(map(len, A)) ==6 and len(A) ==1:\n",
    "        \n",
    "        list3 = []\n",
    "        for i in A:\n",
    "            for u in i:\n",
    "                list3.append(u)\n",
    "                \n",
    "        for i in B:\n",
    "            for u in i:\n",
    "                list3.append(u)        \n",
    "                \n",
    "        print('list3',list3)\n",
    "        \n",
    "        one = (list3[0]*list3[3]) + (list3[1]*list3[4])+(list3[2]*list3[5])\n",
    "        \n",
    "\n",
    "\n",
    "\n",
    "        return [[one]]\n",
    "    \n",
    "    \n",
    "    \n",
    "    elif (sum(map(len, A))+len(B)) or (sum(map(len, B))+len(A)) == 4:\n",
    "        \n",
    "    \n",
    "        list4 = []\n",
    "        for i in A:\n",
    "            for u in i:\n",
    "                list4.append(u)\n",
    "                \n",
    "        for i in B:\n",
    "            for u in i:\n",
    "                list4.append(u)  \n",
    "    \n",
    "        print('list4',list4)\n",
    "    \n",
    "    \n",
    "    \n",
    "    \n",
    "    \n",
    "    \n",
    "    \n",
    "    \n",
    "    \n",
    "    \n",
    "    \n",
    "    else: \n",
    "        list2 = []\n",
    "        for i in A:\n",
    "            for u in i:\n",
    "                list2.append(u)\n",
    "                \n",
    "        for i in B:\n",
    "            for u in i:\n",
    "                list2.append(u)        \n",
    "                \n",
    "        print(list2)\n",
    "        \n",
    "        topleft = (list2[0]*list2[6]) + (list2[1]*list2[8])+(list2[2]*list2[10])\n",
    "        \n",
    "        topright = (list2[0]*list2[7]) + (list2[1]*list2[9])+(list2[2]*list2[11])\n",
    "        \n",
    "        bottomleft = (list2[3]*list2[6]) + (list2[4]*list2[8])+(list2[5]*list2[10])\n",
    "        \n",
    "        bottomright = (list2[3]*list2[7]) + (list2[4]*list2[9])+(list2[5]*list2[11])\n",
    "        \n",
    "        top = [topleft, topright]\n",
    "        bottom = [bottomleft, bottomright]\n",
    "\n",
    "        return [top, bottom]\n",
    "\n",
    "\n",
    "\n"
   ]
  },
  {
   "cell_type": "code",
   "execution_count": 2925,
   "metadata": {},
   "outputs": [
    {
     "data": {
      "text/plain": [
       "[[11, 22], [4, 8]]"
      ]
     },
     "execution_count": 2925,
     "metadata": {},
     "output_type": "execute_result"
    }
   ],
   "source": [
    "matrix_mul(A,B)"
   ]
  },
  {
   "cell_type": "code",
   "execution_count": 2577,
   "metadata": {},
   "outputs": [
    {
     "data": {
      "text/plain": [
       "11300"
      ]
     },
     "execution_count": 2577,
     "metadata": {},
     "output_type": "execute_result"
    }
   ],
   "source": [
    "PRICES_PER_HOUR_PER_DAY_SAMPLE[0][0]"
   ]
  },
  {
   "cell_type": "code",
   "execution_count": null,
   "metadata": {},
   "outputs": [],
   "source": [
    "\n",
    "def matrix_mul(A, B):\n",
    "    \n",
    "    if sum(map(len, A)) == 4:\n",
    "        if sum(map(len, A))!= sum(map(len, B)) and (sum(map(len, A)) != len(B) or len(a) != sum(map(len, B))):\n",
    "            raise ValueError('ValueError111111')\n",
    "    \n",
    "        else:\n",
    "    \n",
    "            List = []\n",
    "            for i in A[0]:\n",
    "                List.append(i)\n",
    "            A_second = []    \n",
    "            for i in A[1]:\n",
    "                List.append(i)\n",
    "\n",
    "            B_first = []\n",
    "            for i in B[0]:\n",
    "                List.append(i)\n",
    "            B_second = []    \n",
    "            for i in B[1]:\n",
    "                List.append(i)\n",
    "\n",
    "\n",
    "\n",
    "            topleft = (List[0]*List[4]) + (List[1]*List[6])\n",
    "\n",
    "            topright = (List[0]*List[5]) + (List[1]*List[7])\n",
    "\n",
    "            bottomleft = (List[2]*List[4]) + (List[3]*List[6])\n",
    "\n",
    "            bottomright = (List[2]*List[5]) + (List[3]*List[7])  \n",
    "\n",
    "            top = [topleft, topright]\n",
    "            bottom = [bottomleft, bottomright]\n",
    "\n",
    "            return [top, bottom]\n",
    "\n",
    "    else: \n",
    "        list2 = []\n",
    "        for i in A:\n",
    "            for u in i:\n",
    "                list2.append(u)\n",
    "                \n",
    "        for i in B:\n",
    "            for u in i:\n",
    "                list2.append(u)        \n",
    "                \n",
    "        \n",
    "        topleft = (list2[0]*list2[6]) + (list2[1]*list2[8])+(list2[2]*list2[10])\n",
    "        \n",
    "        topright = (list2[0]*list2[7]) + (list2[1]*list2[9])+(list2[2]*list2[11])\n",
    "        \n",
    "        bottomleft = (list2[3]*list2[6]) + (list2[4]*list2[8])+(list2[5]*list2[10])\n",
    "        \n",
    "        bottomright = (list2[3]*list2[7]) + (list2[4]*list2[9])+(list2[5]*list2[11])\n",
    "        \n",
    "        top = [topleft, topright]\n",
    "        bottom = [bottomleft, bottomright]\n",
    "\n",
    "        return [top, bottom]\n",
    "\n",
    "\n",
    "\n"
   ]
  },
  {
   "cell_type": "code",
   "execution_count": 670,
   "metadata": {},
   "outputs": [
    {
     "ename": "ValueError",
     "evalue": "Missing Value",
     "output_type": "error",
     "traceback": [
      "\u001b[0;31m---------------------------------------------------------------------------\u001b[0m",
      "\u001b[0;31mValueError\u001b[0m                                Traceback (most recent call last)",
      "\u001b[0;32m<ipython-input-670-2bb26a21f2c3>\u001b[0m in \u001b[0;36m<module>\u001b[0;34m\u001b[0m\n\u001b[1;32m     10\u001b[0m \u001b[0;34m\u001b[0m\u001b[0m\n\u001b[1;32m     11\u001b[0m \u001b[0;32mif\u001b[0m \u001b[0mcount\u001b[0m \u001b[0;34m<\u001b[0m \u001b[0;36m40\u001b[0m\u001b[0;34m:\u001b[0m\u001b[0;34m\u001b[0m\u001b[0;34m\u001b[0m\u001b[0m\n\u001b[0;32m---> 12\u001b[0;31m     \u001b[0;32mraise\u001b[0m \u001b[0mValueError\u001b[0m\u001b[0;34m(\u001b[0m\u001b[0;34m'Missing Value'\u001b[0m\u001b[0;34m)\u001b[0m\u001b[0;34m\u001b[0m\u001b[0;34m\u001b[0m\u001b[0m\n\u001b[0m",
      "\u001b[0;31mValueError\u001b[0m: Missing Value"
     ]
    }
   ],
   "source": [
    "\n",
    "\n",
    "size = []\n",
    "for y,i in enumerate(prices):\n",
    "    size.append(len(i))\n",
    "\n",
    "#print(size)    \n",
    "\n",
    "count = 0\n",
    "for listElem in prices:\n",
    "    count+= len(listElem)\n",
    "\n",
    "if count < 40:\n",
    "    raise ValueError('Missing Value')\n",
    "    \n",
    "if\n"
   ]
  },
  {
   "cell_type": "code",
   "execution_count": null,
   "metadata": {},
   "outputs": [],
   "source": []
  },
  {
   "cell_type": "code",
   "execution_count": 642,
   "metadata": {},
   "outputs": [
    {
     "name": "stdout",
     "output_type": "stream",
     "text": [
      "[4, 5, 4]\n"
     ]
    },
    {
     "ename": "ValueError",
     "evalue": "mismatched error!!",
     "output_type": "error",
     "traceback": [
      "\u001b[0;31m---------------------------------------------------------------------------\u001b[0m",
      "\u001b[0;31mValueError\u001b[0m                                Traceback (most recent call last)",
      "\u001b[0;32m<ipython-input-642-b74f1ea266e3>\u001b[0m in \u001b[0;36m<module>\u001b[0;34m\u001b[0m\n\u001b[1;32m     10\u001b[0m \u001b[0;32melif\u001b[0m \u001b[0msize\u001b[0m\u001b[0;34m[\u001b[0m\u001b[0;36m0\u001b[0m\u001b[0;34m]\u001b[0m \u001b[0;32mand\u001b[0m \u001b[0msize\u001b[0m\u001b[0;34m[\u001b[0m\u001b[0;36m1\u001b[0m\u001b[0;34m]\u001b[0m \u001b[0;34m>\u001b[0m \u001b[0;36m1\u001b[0m\u001b[0;34m:\u001b[0m\u001b[0;34m\u001b[0m\u001b[0;34m\u001b[0m\u001b[0m\n\u001b[1;32m     11\u001b[0m     \u001b[0;32mif\u001b[0m \u001b[0msize\u001b[0m\u001b[0;34m[\u001b[0m\u001b[0;36m0\u001b[0m\u001b[0;34m]\u001b[0m \u001b[0;34m!=\u001b[0m \u001b[0msize\u001b[0m\u001b[0;34m[\u001b[0m\u001b[0;36m1\u001b[0m\u001b[0;34m]\u001b[0m\u001b[0;34m:\u001b[0m\u001b[0;34m\u001b[0m\u001b[0;34m\u001b[0m\u001b[0m\n\u001b[0;32m---> 12\u001b[0;31m         \u001b[0;32mraise\u001b[0m \u001b[0mValueError\u001b[0m\u001b[0;34m(\u001b[0m\u001b[0;34m'mismatched error!!'\u001b[0m\u001b[0;34m)\u001b[0m\u001b[0;34m\u001b[0m\u001b[0;34m\u001b[0m\u001b[0m\n\u001b[0m",
      "\u001b[0;31mValueError\u001b[0m: mismatched error!!"
     ]
    }
   ],
   "source": [
    "size = []\n",
    "for y,i in enumerate(prices):\n",
    "    size.append(len(i))\n",
    "\n",
    "print(size)    \n",
    "\n",
    "if size[0] and size[1] == 1:\n",
    "    raise ValueError('Only 1 value')\n",
    "    \n",
    "elif size[0] and size[1] > 1:\n",
    "    if size[0] != size[1]:\n",
    "        raise ValueError('mismatched error!!')"
   ]
  },
  {
   "cell_type": "code",
   "execution_count": 773,
   "metadata": {},
   "outputs": [],
   "source": [
    "def normalize_prices(prices):\n",
    "\n",
    "\n",
    "    size = []\n",
    "    for y,i in enumerate(prices):\n",
    "        size.append(len(i))\n",
    "    \n",
    "    \n",
    "    if size[0] == 1:\n",
    "        raise ValueError('Only 1 value')\n",
    "    \n",
    "    if size[1] and size[2] > 1:\n",
    "        if size[1] != size[2]:\n",
    "           raise ValueError('mismatched error!!')\n",
    "    \n",
    "    \n",
    "    if size[1] == size[2]:\n",
    "    \n",
    "    \n",
    "        import numpy as np\n",
    "        Base_Value = prices[0][0]/100\n",
    "        List = []  \n",
    "        for y in (prices):\n",
    "            Normalised = (np.asarray(y)/Base_Value)\n",
    "            Normalised = list(Normalised)\n",
    "            List.append(Normalised)     \n",
    "    \n",
    "    \n",
    "        \n",
    "        return(List)"
   ]
  },
  {
   "cell_type": "code",
   "execution_count": null,
   "metadata": {},
   "outputs": [],
   "source": []
  },
  {
   "cell_type": "code",
   "execution_count": null,
   "metadata": {},
   "outputs": [],
   "source": []
  },
  {
   "cell_type": "code",
   "execution_count": 777,
   "metadata": {},
   "outputs": [
    {
     "data": {
      "text/plain": [
       "[[100.0,\n",
       "  106.19469026548673,\n",
       "  107.07964601769912,\n",
       "  107.07964601769912,\n",
       "  104.42477876106194,\n",
       "  98.23008849557522,\n",
       "  91.15044247787611,\n",
       "  83.1858407079646],\n",
       " [89.38053097345133,\n",
       "  91.15044247787611,\n",
       "  90.26548672566372,\n",
       "  91.15044247787611,\n",
       "  90.26548672566372,\n",
       "  89.38053097345133,\n",
       "  90.26548672566372,\n",
       "  90.26548672566372],\n",
       " [93.80530973451327,\n",
       "  94.69026548672566,\n",
       "  89.38053097345133,\n",
       "  88.49557522123894,\n",
       "  86.72566371681415,\n",
       "  74.33628318584071,\n",
       "  66.3716814159292,\n",
       "  79.64601769911505],\n",
       " [80.53097345132744,\n",
       "  84.95575221238938,\n",
       "  90.26548672566372,\n",
       "  90.26548672566372,\n",
       "  90.26548672566372,\n",
       "  91.15044247787611,\n",
       "  89.38053097345133,\n",
       "  92.03539823008849],\n",
       " [92.92035398230088,\n",
       "  93.80530973451327,\n",
       "  116.8141592920354,\n",
       "  95.57522123893806,\n",
       "  92.92035398230088,\n",
       "  90.26548672566372,\n",
       "  87.61061946902655,\n",
       "  86.72566371681415]]"
      ]
     },
     "execution_count": 777,
     "metadata": {},
     "output_type": "execute_result"
    }
   ],
   "source": [
    "normalize_prices(PRICES_PER_HOUR_PER_DAY_SAMPLE)"
   ]
  },
  {
   "cell_type": "code",
   "execution_count": null,
   "metadata": {},
   "outputs": [],
   "source": [
    "\"\"\"\n",
    "DATA PROCESSING\n",
    "\n",
    "DO NOT MODIFY CONSTANTS\n",
    "\"\"\"\n",
    "\n",
    "\n",
    "PRICES_PER_HOUR_PER_DAY_SAMPLE = [\n",
    "    [\n",
    "        11300,\n",
    "        12000,\n",
    "        12100,\n",
    "        12100,\n",
    "        11800,\n",
    "        11100,\n",
    "        10300,\n",
    "        9400,\n",
    "    ],  # Prices for business hours on Monday\n",
    "    [\n",
    "        10100,\n",
    "        10300,\n",
    "        10200,\n",
    "        10300,\n",
    "        10200,\n",
    "        10100,\n",
    "        10200,\n",
    "        10200,\n",
    "    ],  # Prices for business hours on Tuesday\n",
    "    [\n",
    "        10600,\n",
    "        10700,\n",
    "        10100,\n",
    "        10000,\n",
    "        9800,\n",
    "        8400,\n",
    "        7500,\n",
    "        9000,\n",
    "    ],  # Prices for business hours on Wednesday\n",
    "    [\n",
    "        9100,\n",
    "        9600,\n",
    "        10200,\n",
    "        10200,\n",
    "        10200,\n",
    "        10300,\n",
    "        10100,\n",
    "        10400,\n",
    "    ],  # Prices for business hours on Thursday\n",
    "    [\n",
    "        10500,\n",
    "        10600,\n",
    "        13200,\n",
    "        10800,\n",
    "        10500,\n",
    "        10200,\n",
    "        9900,\n",
    "        9800,\n",
    "    ],  # Prices for business hours on Friday\n",
    "]\n",
    "\n",
    "\n",
    "def normalize_prices(prices):\n",
    "    \"\"\"\n",
    "    This function takes a list of prices for a given commodity.\n",
    "\n",
    "    The prices are given as a list of list of numbers. Each inner list corresponds\n",
    "    to a day of the week, and each number corresponds to the price at a given\n",
    "    hour of the day (limited to business hours only).\n",
    "\n",
    "    See the example of PRICES_PER_HOUR_PER_DAY_SAMPLE above. Here we have a list\n",
    "    containing five lists (so the data is for one week only), each inner list\n",
    "    contains 8 numbers, for 8 hours in the day.\n",
    "\n",
    "    This function should normalise all the prices such that the first value is\n",
    "    worth 100 and the other are adjusted accordingly.\n",
    "\n",
    "    E.g., normalize_prices([[1, 2], [3, 4]]) is [[100, 200], [300, 400]]\n",
    "    E.g., normalize_prices([[200, 20], [30, 400]]) is [[100, 10], [15, 200]]\n",
    "\n",
    "    NOTE: prices need to consist of lists of the same length meaning that no prices\n",
    "    for given hours are missing and if they are, you must raise a ValueError.\n",
    "\n",
    "    :param prices: list of list of prices\n",
    "    :return: normalised list of list of prices where the first price is 100\n",
    "    and the other prices are scaled accordingly\n",
    "    :rtype: list\n",
    "    \"\"\"\n",
    "    raise NotImplementedError\n",
    "\n",
    "\n",
    "def flip_prices(prices):\n",
    "    \"\"\"\n",
    "    This function returns a list of daily prices for each observed hour given\n",
    "    a list of hourly prices for each observed day.\n",
    "\n",
    "    E.g., flip_prices([[1, 2, 3], [4, 5, 6]]) is [[1, 4], [2, 5], [3, 6]]\n",
    "\n",
    "    NOTE: prices need to consist of lists of the same length meaning that no prices\n",
    "    for given hours are missing and if they are, you must raise a ValueError.\n",
    "\n",
    "    :param prices: list (for days) of list (for hours) of prices\n",
    "    :return: list (for hours) of list (for days) of prices\n",
    "    :rtype: list\n",
    "    \"\"\"\n",
    "    raise NotImplementedError\n",
    "\n",
    "\n"
   ]
  },
  {
   "cell_type": "code",
   "execution_count": null,
   "metadata": {},
   "outputs": [],
   "source": [
    "def normalize_prices(prices):\n",
    "\n",
    "\n",
    "    size = []\n",
    "    for y,i in enumerate(prices):\n",
    "        size.append(len(i))\n",
    "    if size[0] != size[1]:\n",
    "        raise ValueError('lenght error!!')\n",
    "    elif size[0] == size[1]:\n",
    "    \n",
    "    \n",
    "        import numpy as np\n",
    "        Base_Value = prices[0][0]/100\n",
    "        List = []  \n",
    "        for y in (prices):\n",
    "            Normalised = (np.asarray(y)/Base_Value)\n",
    "            Normalised = list(Normalised)\n",
    "            List.append(Normalised)     \n",
    "    \n",
    "    \n",
    "        \n",
    "        return(List)"
   ]
  },
  {
   "cell_type": "code",
   "execution_count": 671,
   "metadata": {},
   "outputs": [],
   "source": [
    "def normalize_prices(prices):\n",
    "\n",
    "\n",
    "    size = []\n",
    "    for y,i in enumerate(prices):\n",
    "        size.append(len(i))\n",
    "    \n",
    "    \n",
    "    if size[0] == 1:\n",
    "        raise ValueError('Only 1 value')\n",
    "    \n",
    "    if size[0] and size[1] > 1:\n",
    "        if size[0] != size[1]:\n",
    "           raise ValueError('mismatched error!!')\n",
    "    \n",
    "    \n",
    "    if size[0] == size[1]:\n",
    "    \n",
    "    \n",
    "        import numpy as np\n",
    "        Base_Value = prices[0][0]/100\n",
    "        List = []  \n",
    "        for y in (prices):\n",
    "            Normalised = (np.asarray(y)/Base_Value)\n",
    "            Normalised = list(Normalised)\n",
    "            List.append(Normalised)     \n",
    "    \n",
    "    \n",
    "        \n",
    "        return(List)\n",
    "\n"
   ]
  },
  {
   "cell_type": "code",
   "execution_count": 784,
   "metadata": {},
   "outputs": [],
   "source": [
    "def normalize_prices(prices):\n",
    "\n",
    "\n",
    "    size = []\n",
    "    for y,i in enumerate(prices):\n",
    "        size.append(len(i))\n",
    "    \n",
    "    \n",
    "    if size[0] == 1:\n",
    "        raise ValueError('Only 1 value')\n",
    "    \n",
    "    if size[0] and size[1] > 1:\n",
    "        if size[0] != size[1]:\n",
    "           raise ValueError('mismatched error!!')\n",
    "    \n",
    "    \n",
    "    if size[0] == size[1]:\n",
    "    \n",
    "    \n",
    "        import numpy as np\n",
    "        Base_Value = prices[0][0]/100\n",
    "        List = []  \n",
    "        for y in (prices):\n",
    "            Normalised = (np.asarray(y)/Base_Value)\n",
    "            Normalised = list(Normalised)\n",
    "            List.append(Normalised)     \n",
    "    \n",
    "    \n",
    "        \n",
    "        return(List)"
   ]
  },
  {
   "cell_type": "code",
   "execution_count": 785,
   "metadata": {},
   "outputs": [
    {
     "data": {
      "text/plain": [
       "[[100.0,\n",
       "  106.19469026548673,\n",
       "  107.07964601769912,\n",
       "  107.07964601769912,\n",
       "  104.42477876106194,\n",
       "  98.23008849557522,\n",
       "  91.15044247787611,\n",
       "  83.1858407079646],\n",
       " [89.38053097345133,\n",
       "  91.15044247787611,\n",
       "  90.26548672566372,\n",
       "  91.15044247787611,\n",
       "  90.26548672566372,\n",
       "  89.38053097345133,\n",
       "  90.26548672566372,\n",
       "  90.26548672566372],\n",
       " [93.80530973451327,\n",
       "  94.69026548672566,\n",
       "  89.38053097345133,\n",
       "  88.49557522123894,\n",
       "  86.72566371681415,\n",
       "  74.33628318584071,\n",
       "  66.3716814159292,\n",
       "  79.64601769911505],\n",
       " [80.53097345132744,\n",
       "  84.95575221238938,\n",
       "  90.26548672566372,\n",
       "  90.26548672566372,\n",
       "  90.26548672566372,\n",
       "  91.15044247787611,\n",
       "  89.38053097345133,\n",
       "  92.03539823008849],\n",
       " [92.92035398230088,\n",
       "  93.80530973451327,\n",
       "  116.8141592920354,\n",
       "  95.57522123893806,\n",
       "  92.92035398230088,\n",
       "  90.26548672566372,\n",
       "  87.61061946902655,\n",
       "  86.72566371681415]]"
      ]
     },
     "execution_count": 785,
     "metadata": {},
     "output_type": "execute_result"
    }
   ],
   "source": [
    "normalize_prices(PRICES_PER_HOUR_PER_DAY_SAMPLE)"
   ]
  },
  {
   "cell_type": "code",
   "execution_count": 786,
   "metadata": {},
   "outputs": [],
   "source": [
    "def flip_prices(prices):\n",
    "    \"\"\"\n",
    "    This function returns a list of daily prices for each observed hour given\n",
    "    a list of hourly prices for each observed day.\n",
    "\n",
    "    E.g., flip_prices([[1, 2, 3], [4, 5, 6]]) is [[1, 4], [2, 5], [3, 6]]\n",
    "\n",
    "    NOTE: prices need to consist of lists of the same length meaning that no prices\n",
    "    for given hours are missing and if they are, you must raise a ValueError.\n",
    "\n",
    "    :param prices: list (for days) of list (for hours) of prices\n",
    "    :return: list (for hours) of list (for days) of prices\n",
    "    :rtype: list\n",
    "    \"\"\"\n"
   ]
  },
  {
   "cell_type": "code",
   "execution_count": 860,
   "metadata": {},
   "outputs": [],
   "source": [
    "prices = [[1, 2, 4, 8], [1, 3, 9, 27]]"
   ]
  },
  {
   "cell_type": "code",
   "execution_count": 913,
   "metadata": {},
   "outputs": [],
   "source": [
    "def flip_prices(prices):\n",
    "    \n",
    "        \n",
    "    if all(len(i) == len(prices[0]) for i in prices) is False:\n",
    "        raise ValueError (\"ValueError Mismatched\")\n",
    "        \n",
    "    \n",
    "    \n",
    "    elif all(len(i) == len(prices[0]) for i in prices) is True:\n",
    "    \n",
    "        FinalList = [list(i) for i in zip(*prices)]\n",
    "    \n",
    "    return (FinalList)\n",
    "\n",
    " \n",
    "\n"
   ]
  },
  {
   "cell_type": "code",
   "execution_count": 915,
   "metadata": {},
   "outputs": [
    {
     "data": {
      "text/plain": [
       "[[11300, 10100, 10600, 9100, 10500],\n",
       " [12000, 10300, 10700, 9600, 10600],\n",
       " [12100, 10200, 10100, 10200, 13200],\n",
       " [12100, 10300, 10000, 10200, 10800],\n",
       " [11800, 10200, 9800, 10200, 10500],\n",
       " [11100, 10100, 8400, 10300, 10200],\n",
       " [10300, 10200, 7500, 10100, 9900],\n",
       " [9400, 10200, 9000, 10400, 9800]]"
      ]
     },
     "execution_count": 915,
     "metadata": {},
     "output_type": "execute_result"
    }
   ],
   "source": [
    "flip_prices(PRICES_PER_HOUR_PER_DAY_SAMPLE)"
   ]
  },
  {
   "cell_type": "code",
   "execution_count": 908,
   "metadata": {},
   "outputs": [],
   "source": [
    "Final = (zip((*prices)))\n",
    "list(Final)\n",
    "\n",
    "for i in Final:\n",
    "    print(i)\n",
    "    "
   ]
  },
  {
   "cell_type": "code",
   "execution_count": 867,
   "metadata": {},
   "outputs": [
    {
     "data": {
      "text/plain": [
       "False"
      ]
     },
     "execution_count": 867,
     "metadata": {},
     "output_type": "execute_result"
    }
   ],
   "source": [
    "Equal"
   ]
  },
  {
   "cell_type": "code",
   "execution_count": 910,
   "metadata": {},
   "outputs": [
    {
     "data": {
      "text/plain": [
       "[[11300, 10100, 10600, 9100, 10500],\n",
       " [12000, 10300, 10700, 9600, 10600],\n",
       " [12100, 10200, 10100, 10200, 13200],\n",
       " [12100, 10300, 10000, 10200, 10800],\n",
       " [11800, 10200, 9800, 10200, 10500],\n",
       " [11100, 10100, 8400, 10300, 10200],\n",
       " [10300, 10200, 7500, 10100, 9900],\n",
       " [9400, 10200, 9000, 10400, 9800]]"
      ]
     },
     "execution_count": 910,
     "metadata": {},
     "output_type": "execute_result"
    }
   ],
   "source": [
    "[list(i) for i in zip(*PRICES_PER_HOUR_PER_DAY_SAMPLE)]"
   ]
  },
  {
   "cell_type": "code",
   "execution_count": null,
   "metadata": {},
   "outputs": [],
   "source": [
    "\"\"\"\n",
    "ORDER AND CART MANAGEMENT\n",
    "\n",
    "Orders are sets of items ordered by a customer\n",
    "An ordered item has four components:\n",
    " - a name\n",
    " - a quantity (the number of such items bought)\n",
    " - a unit price (in pence)\n",
    " - a unit weight (in pounds)\n",
    "Those are represented by a tuple.\n",
    "\n",
    "NOTE: You can safely assume that all orders have all the required fields\n",
    "(name, quantity, unit-price and unit-weight) so no validation needs to be made.\n",
    "\n",
    "DO NOT MODIFY CONSTANTS\n",
    "\"\"\"\n",
    "\n",
    "ORDER_SAMPLE_1 = {(\"lamp\", 2, 2399, 2), (\"chair\", 4, 3199, 10), (\"table\", 1, 5599, 85)}\n",
    "ORDER_SAMPLE_2 = {(\"sofa\", 1, 18399, 140), (\"bookshelf\", 2, 4799, 40)}\n",
    "\n",
    "CATALOGUE = {(\"table\", 9999, 20), (\"chair\", 2999, 5), (\"lamp\", 1999, 10)}\n",
    "\n",
    "\n",
    "def delivery_charges(order):\n",
    "    \"\"\"\n",
    "    Compute the delivery charges for an order. The company charges a flat £50\n",
    "    fee plus £20 for each 100lbs (additional weight under 100lbs is ignored).\n",
    "\n",
    "    E.g., delivery_charges({(\"desk\", 1, 11999, 160)}) is 7000 (pence)\n",
    "    E.g., delivery_charges({(\"desk\", 2, 11999, 160)}) is 11000 (pence)\n",
    "    E.g., delivery_charges({(\"lamp\", 1, 2399, 2)}) is 5000 (pence)\n",
    "    E.g., delivery_charges({(\"lamp\", 50, 2399, 2)}) is 7000 (pence)\n",
    "\n",
    "    :param order: order to process. See samples for examples.\n",
    "    :return: delivery fee in pence\n",
    "    :rtype: float | int\n",
    "    \"\"\"\n",
    "    raise NotImplementedError\n",
    "\n",
    "\n",
    "def total_charge(order):\n",
    "    \"\"\"\n",
    "    Compute the total charge for an order. It includes:\n",
    "        - total price of items,\n",
    "        - VAT (20% of the price of items),\n",
    "        - delivery fee\n",
    "\n",
    "    NOTE: in this computation, VAT is not applied to the delivery\n",
    "\n",
    "    E.g., total_charge({(\"desk\", 2, 11999, 160)}) is 39797 (pence)\n",
    "    E.g., total_charge({(\"lamp\", 50, 2399, 2)}) is 150940 (pence)\n",
    "\n",
    "    Hint: Look up the built-in Python function round().\n",
    "\n",
    "    :param order: order to process. See samples.\n",
    "    :return: total price, in pence, rounded to the nearest penny.\n",
    "    :rtype: float | int\n",
    "    \"\"\"\n",
    "    raise NotImplementedError\n",
    "\n",
    "\n",
    "def add_item_to_order(name, quantity, order):\n",
    "    \"\"\"\n",
    "    When a customer adds items to their basket, you need to update their order.\n",
    "\n",
    "    The customer provides some of the details (the name of the item and\n",
    "    the quantity they want). The rest (price and weight) needs to be looked up in\n",
    "    the CATALOGUE provided above.\n",
    "\n",
    "    NOTE: you must return a new order as a set and leave the argument unmodified.\n",
    "\n",
    "    NOTE: if the order already contains some of the items, you must update the\n",
    "    quantity field for that item; otherwise, you must add a new entry in the\n",
    "    order\n",
    "\n",
    "    NOTE: if the item cannot be found in the catalogue, the function should raise\n",
    "    a KeyError.\n",
    "\n",
    "    E.g., add_item_to_order(\"table\", 1, {(\"table\", 1, 9999, 20)}) is\n",
    "        {(\"table\", 2, 9999, 20)}\n",
    "    E.g., add_item_to_order(\"chair\", 1, {(\"table\", 1, 9999, 20)}) is\n",
    "        {(\"table\", 1, 9999, 20), (\"chair\", 1, 2999, 5)}\n",
    "\n",
    "    :param name: name of the item to add\n",
    "    :param quantity: number of items to add\n",
    "    :param order: previous order\n",
    "    :return: a new order with the added items. If the item is unknown, raise a KeyError\n",
    "    :rtype: set\n",
    "    \"\"\"\n",
    "    raise NotImplementedError\n",
    "\n"
   ]
  },
  {
   "cell_type": "code",
   "execution_count": 1097,
   "metadata": {},
   "outputs": [],
   "source": [
    "ORDER_SAMPLE_1 = {(\"lamp\", 2, 2399, 2), (\"chair\", 4, 3199, 10), (\"table\", 1, 5599, 85)}\n",
    "ORDER_SAMPLE_2 = {(\"sofa\", 1, 18399, 140), (\"bookshelf\", 2, 4799, 40)}\n",
    "ORDER_SAMPLE_3 = {(\"sofa\", 1, 18399, 140), (\"bookshelf\", 2, 4799, 70)}\n",
    "ORDER_SAMPLE_4 = {('X', 2, 11999, 160)}\n",
    "total_charge_1 = ({(\"lamp\", 50, 2399, 2)})\n",
    "total_charge_2 = {('Desk', 1, 11999, 160)}\n",
    "\n",
    "CATALOGUE = {(\"table\", 9999, 20), (\"chair\", 2999, 5), (\"lamp\", 1999, 10)}"
   ]
  },
  {
   "cell_type": "code",
   "execution_count": 1064,
   "metadata": {},
   "outputs": [],
   "source": [
    "def delivery_charges(order):\n",
    "\n",
    "\n",
    "    Total = []\n",
    "    Weight = [item[3] for item in order]\n",
    "    Items = [item[1] for item in order]\n",
    "    for num1, num2 in zip(Weight,Items):\n",
    "        Total.append(num1*num2)\n",
    "    Sum_Total = sum(Total)\n",
    "    \n",
    "    if Sum_Total < 100:        \n",
    "        return 5000\n",
    "\n",
    "    if Sum_Total >= 100:\n",
    "        Round_Down = (int(Sum_Total/100))*2000\n",
    "        Final_Amount = Round_Down + 5000\n",
    "        return Final_Amount\n",
    "        "
   ]
  },
  {
   "cell_type": "code",
   "execution_count": 1098,
   "metadata": {},
   "outputs": [],
   "source": [
    "def total_charge(order):\n",
    "    \n",
    "    Total_W_I = []\n",
    "    Total_P_I = []\n",
    "    Weight = [item[3] for item in order]\n",
    "    Items = [item[1] for item in order]\n",
    "    Product_Price = [item[2] for item in order]\n",
    "    \n",
    "        \n",
    "    for num1, num2 in zip(Weight,Items):\n",
    "        Total_W_I.append(num1*num2)\n",
    "        Sum_Total = sum(Total_W_I)\n",
    "        \n",
    "    for num3, num4 in zip(Product_Price,Items):\n",
    "        Total_P_I.append(num3*num4)\n",
    "        Sum_Price = sum(Total_P_I)\n",
    "        \n",
    "        \n",
    "    \n",
    "    if Sum_Total < 100:        \n",
    "        return round(5000+ Sum_Price + (0.2*Sum_Price))\n",
    "\n",
    "    if Sum_Total >= 100:\n",
    "        Round_Down = (int(Sum_Total/100))*2000\n",
    "        Final_Amount = Round_Down + 5000\n",
    "        Final = Final_Amount+ Sum_Price + (0.2*Sum_Price)\n",
    "        return round(Final)\n",
    "\n"
   ]
  },
  {
   "cell_type": "code",
   "execution_count": 1099,
   "metadata": {},
   "outputs": [
    {
     "data": {
      "text/plain": [
       "21399"
      ]
     },
     "execution_count": 1099,
     "metadata": {},
     "output_type": "execute_result"
    }
   ],
   "source": [
    "total_charge(total_charge_2)"
   ]
  },
  {
   "cell_type": "code",
   "execution_count": 1072,
   "metadata": {},
   "outputs": [
    {
     "data": {
      "text/plain": [
       "[2399]"
      ]
     },
     "execution_count": 1072,
     "metadata": {},
     "output_type": "execute_result"
    }
   ],
   "source": [
    "[item[2] for item in total_charge_1]"
   ]
  },
  {
   "cell_type": "code",
   "execution_count": 1051,
   "metadata": {},
   "outputs": [
    {
     "name": "stdout",
     "output_type": "stream",
     "text": [
      "[140, 40] [1, 2] 220\n"
     ]
    }
   ],
   "source": [
    "Total = []\n",
    "Weight = [item[3] for item in ORDER_SAMPLE_2]\n",
    "Items = [item[1] for item in ORDER_SAMPLE_2]\n",
    "for num1, num2 in zip(Weight,Items):\n",
    "    Total.append(num1*num2)\n",
    "Sum_Total = sum(Total)\n",
    "    \n",
    "\n",
    "print(Weight, Items, Sum_Total)"
   ]
  },
  {
   "cell_type": "code",
   "execution_count": 920,
   "metadata": {},
   "outputs": [
    {
     "name": "stdout",
     "output_type": "stream",
     "text": [
      "('lamp', 2, 2399, 2)\n",
      "('chair', 4, 3199, 10)\n",
      "('table', 1, 5599, 85)\n"
     ]
    }
   ],
   "source": [
    "delivery_charges(ORDER_SAMPLE_1)"
   ]
  },
  {
   "cell_type": "code",
   "execution_count": 950,
   "metadata": {},
   "outputs": [
    {
     "data": {
      "text/plain": [
       "[]"
      ]
     },
     "execution_count": 950,
     "metadata": {},
     "output_type": "execute_result"
    }
   ],
   "source": [
    "\n",
    "[i for i in zip(*ORDER_SAMPLE_1) if i == 1]\n",
    "\n"
   ]
  },
  {
   "cell_type": "code",
   "execution_count": 958,
   "metadata": {},
   "outputs": [
    {
     "name": "stdout",
     "output_type": "stream",
     "text": [
      "0 ('lamp', 2, 2399, 2)\n",
      "1 ('chair', 4, 3199, 10)\n",
      "2 ('table', 1, 5599, 85)\n"
     ]
    }
   ],
   "source": [
    "for i, y in enumerate(ORDER_SAMPLE_1):\n",
    "    print(i,y)\n"
   ]
  },
  {
   "cell_type": "code",
   "execution_count": 1031,
   "metadata": {},
   "outputs": [],
   "source": [
    "def delivery_charges(order):\n",
    "\n",
    "\n",
    "    Weight = [item[3] for item in order]\n",
    "    Sum_Weight = sum(Weight)\n",
    "    \n",
    "    if Sum_Weight < 100:        \n",
    "        return 5000\n",
    "\n",
    "    if Sum_Weight >= 100:\n",
    "        Round_Down = (int(Sum_Weight/100))*2000\n",
    "        Final_Amount = Round_Down + 5000\n",
    "        return Final_Amount\n",
    "        "
   ]
  },
  {
   "cell_type": "code",
   "execution_count": 1032,
   "metadata": {},
   "outputs": [
    {
     "data": {
      "text/plain": [
       "7000"
      ]
     },
     "execution_count": 1032,
     "metadata": {},
     "output_type": "execute_result"
    }
   ],
   "source": [
    "delivery_charges(ORDER_SAMPLE_4)"
   ]
  },
  {
   "cell_type": "code",
   "execution_count": 1010,
   "metadata": {},
   "outputs": [
    {
     "name": "stdout",
     "output_type": "stream",
     "text": [
      "9000\n"
     ]
    }
   ],
   "source": [
    "    Weight = [item[3] for item in ORDER_SAMPLE_3]\n",
    "    Sum_Weight = sum(Weight)\n",
    "    Round_Down = (int(Sum_Weight/100))*2000\n",
    "    Final_Amount = Round_Down + 5000\n",
    "    print(Final_Amount)"
   ]
  },
  {
   "cell_type": "code",
   "execution_count": 1029,
   "metadata": {},
   "outputs": [
    {
     "data": {
      "text/plain": [
       "[2, 4, 1]"
      ]
     },
     "execution_count": 1029,
     "metadata": {},
     "output_type": "execute_result"
    }
   ],
   "source": [
    "Number_of_Items = [item[1] for item in ORDER_SAMPLE_1]\n",
    "Number_of_Items\n"
   ]
  },
  {
   "cell_type": "code",
   "execution_count": 1030,
   "metadata": {},
   "outputs": [],
   "source": [
    "def delivery_charges(order):\n",
    "\n",
    "\n",
    "    Weight = [item[3] for item in order]\n",
    "    Sum_Weight = sum(Weight)\n",
    "    \n",
    "    if Sum_Weight < 100:        \n",
    "        return 5000\n",
    "\n",
    "    if Sum_Weight >= 100:\n",
    "        Round_Down = (int(Sum_Weight/100))*2000\n",
    "        Final_Amount = Round_Down + 5000\n",
    "        return Final_Amount\n",
    "        "
   ]
  },
  {
   "cell_type": "code",
   "execution_count": 1100,
   "metadata": {},
   "outputs": [],
   "source": [
    "\n",
    "def add_item_to_order(name, quantity, order):\n",
    "    \"\"\"\n",
    "    When a customer adds items to their basket, you need to update their order.\n",
    "\n",
    "    The customer provides some of the details (the name of the item and\n",
    "    the quantity they want). The rest (price and weight) needs to be looked up in\n",
    "    the CATALOGUE provided above.\n",
    "\n",
    "    NOTE: you must return a new order as a set and leave the argument unmodified.\n",
    "\n",
    "    NOTE: if the order already contains some of the items, you must update the\n",
    "    quantity field for that item; otherwise, you must add a new entry in the\n",
    "    order\n",
    "\n",
    "    NOTE: if the item cannot be found in the catalogue, the function should raise\n",
    "    a KeyError.\n",
    "\n",
    "    E.g., add_item_to_order(\"table\", 1, {(\"table\", 1, 9999, 20)}) is\n",
    "        {(\"table\", 2, 9999, 20)}\n",
    "    E.g., add_item_to_order(\"chair\", 1, {(\"table\", 1, 9999, 20)}) is\n",
    "        {(\"table\", 1, 9999, 20), (\"chair\", 1, 2999, 5)}\n",
    "\n",
    "    :param name: name of the item to add\n",
    "    :param quantity: number of items to add\n",
    "    :param order: previous order\n",
    "    :return: a new order with the added items. If the item is unknown, raise a KeyError\n",
    "    :rtype: set\n",
    "    \"\"\"\n",
    "\n"
   ]
  },
  {
   "cell_type": "code",
   "execution_count": 1914,
   "metadata": {},
   "outputs": [],
   "source": [
    "      name = 'chair'\n",
    "\n",
    "      quantity = 1\n",
    "\n",
    "      order = {('table', 1, 9999, 20)}"
   ]
  },
  {
   "cell_type": "code",
   "execution_count": 1967,
   "metadata": {},
   "outputs": [],
   "source": [
    "\n",
    "def add_item_to_order(name, quantity, order):\n",
    "    \n",
    "    CATALOGUE = {(\"table\", 9999, 20), (\"chair\", 2999, 5), (\"lamp\", 1999, 10)}\n",
    "    \n",
    "    name_list = [item[0] for item in CATALOGUE if item[0] ==name]\n",
    "    #price_list = [item[1] for item in CATALOGUE]\n",
    "    #weight_list = [item[2] for item in CATALOGUE]\n",
    "    \n",
    "   # print([item[0] for item in CATALOGUE if item[0] ==name])\n",
    "    \n",
    "    name1 = name.split(sep=None, maxsplit = -1)\n",
    "    #quantity = quantity.split(sep=None, maxsplit = -1)\n",
    "    \n",
    "    old_name_list = [item[0] for item in order]\n",
    "    old_quantity_list = [int(item[1]) for item in order]\n",
    "    old_price_list = [item[2] for item in order]\n",
    "    old_weight_list = [item[3] for item in order]\n",
    "   \n",
    "    #old_quantity_list = int(old_quantity_list)\n",
    "    #print('old price list0.5', old_price_list)\n",
    "\n",
    "    #Updated_number = old_quantity_list\n",
    "    updated_number = old_quantity_list\n",
    "    #print(name1, old_name_list)\n",
    "\n",
    "    if len(order) ==0:\n",
    "        \n",
    "        zero_list = [list(t[:])for t in CATALOGUE if t[0] == name]\n",
    "        emty_list = []\n",
    "        for i in ([quantity]):\n",
    "            emty_list.append(i)\n",
    "            \n",
    "        zero_list.insert(1,emty_list)\n",
    "        #print(zero_list)\n",
    "        \n",
    "        total = []\n",
    "        for i in zero_list:\n",
    "            total+= i\n",
    "            \n",
    "        Tuple_list = set()\n",
    "        Tuple1 = {(total[0], total[3], total[1],total[2])}\n",
    "        #Tuple1 = list(Tuple1)\n",
    "        #Tuple_list.update(Tuple1)\n",
    "       # Tuple1 = set(Tuple1)\n",
    "        return Tuple1\n",
    "\n",
    "\n",
    "    #    for i in zero_list:\n",
    "    #        element.append(i)\n",
    "    #    print(element)\n",
    "        \n",
    "        #zero_list = set(zero_list)\n",
    "        #zero_list = zero_list + (1,)\n",
    "        #for i in zero_list:\n",
    "            #zero_list1.append(zero_list1)\n",
    "        #zero_list1 = [i for i in (zero_list)]\n",
    "            \n",
    "        \n",
    "        \n",
    "        #print(new_list)\n",
    "        #print(zero_list1)\n",
    "\n",
    "        \n",
    "    else:\n",
    "#name, cata and order doesnt match\n",
    "\n",
    "        if len(name_list) == 0:\n",
    "            raise KeyError('No listed Product')\n",
    "        \n",
    "            print(name1,[list(t[:])for t in CATALOGUE if t[0] == name1] )\n",
    "        \n",
    "        # Not just think of a way to add further order to the old order\n",
    "        elif name1 != old_name_list:\n",
    "            Index_list = []\n",
    "            for item1 in name_list:\n",
    "                for item2 in CATALOGUE:\n",
    "                    if item1 == item2[0]:\n",
    "                        Index_list.append(item2[:])\n",
    "                                          \n",
    "            #print('index list:',Index_list)\n",
    "            Index_list1 = Index_list[0]\n",
    "            #print('index list11111',Index_list1)\n",
    "            new_list = []\n",
    "            for i in Index_list1:\n",
    "                new_list.append(i)\n",
    "            new_list.insert(1,quantity)\n",
    "            new_list = tuple(new_list)\n",
    "            final_set1 = order     \n",
    "            final_set1.add(new_list) \n",
    "            return final_set1    \n",
    "            #print('new list:',final_set1)\n",
    "            #print('name doesnt match order, but name matches cat')\n",
    "                #existing_order = order\n",
    "            \n",
    "            \n",
    "\n",
    "       # elif len([item[0] for item in CATALOGUE if item[0] ==name1])>0:\n",
    "                \n",
    "       #     print('jeeeee',item)\n",
    "       #     print('ffddddd',[item[0] for item in CATALOGUE if item[0] ==name1])\n",
    "            \n",
    "        \n",
    "    \n",
    "        elif name1 == old_name_list:\n",
    "            updated_number.append(quantity)\n",
    "    \n",
    "\n",
    "\n",
    "    \n",
    "    updated_number = sum(updated_number)\n",
    "    name = str(name)\n",
    "    updated_number = str(updated_number)\n",
    "    old_price_list = str(old_price_list)\n",
    "    #print('old price list1', old_price_list)\n",
    "    old_weight_list = str(old_weight_list)\n",
    "    \n",
    "    name= name.replace(\"[\",\"\")\n",
    "    name= name.replace(\"]\",\"\")\n",
    "    \n",
    "    name= name.replace(\"'\",\"\")\n",
    "    \n",
    "    old_price_list = old_price_list.replace(\"[\",\"\")\n",
    "    old_price_list = old_price_list.replace(\"]\",\"\")\n",
    "    \n",
    "    old_weight_list = old_weight_list.replace(\"[\",\"\")\n",
    "    old_weight_list = old_weight_list.replace(\"]\",\"\")\n",
    "\n",
    "    #print('old price list2', old_price_list)\n",
    "   \n",
    "    try:\n",
    "        Tuple2 = {((name,int(float(updated_number)),int(float(old_price_list)),int(float(old_weight_list))))}\n",
    "        return Tuple2\n",
    "\n",
    "    except ValueError:\n",
    "        pass\n",
    "    \n",
    "    \n",
    "    \n",
    "        \n",
    "    \n",
    "        \n",
    "\n",
    "\n",
    "\n",
    "\n"
   ]
  },
  {
   "cell_type": "code",
   "execution_count": 1968,
   "metadata": {},
   "outputs": [
    {
     "data": {
      "text/plain": [
       "{('chair', 1, 2999, 5), ('table', 1, 9999, 20)}"
      ]
     },
     "execution_count": 1968,
     "metadata": {},
     "output_type": "execute_result"
    }
   ],
   "source": [
    "add_item_to_order(name, quantity, order)"
   ]
  },
  {
   "cell_type": "code",
   "execution_count": 1465,
   "metadata": {},
   "outputs": [
    {
     "data": {
      "text/plain": [
       "0"
      ]
     },
     "execution_count": 1465,
     "metadata": {},
     "output_type": "execute_result"
    }
   ],
   "source": [
    "len(order)\n"
   ]
  },
  {
   "cell_type": "code",
   "execution_count": 1137,
   "metadata": {},
   "outputs": [
    {
     "data": {
      "text/plain": [
       "['table']"
      ]
     },
     "execution_count": 1137,
     "metadata": {},
     "output_type": "execute_result"
    }
   ],
   "source": [
    "[item[0] for item in order]"
   ]
  },
  {
   "cell_type": "code",
   "execution_count": 1489,
   "metadata": {},
   "outputs": [],
   "source": [
    "    CATALOGUE = {(\"table\", 9999, 20), (\"chair\", 2999, 5), (\"lamp\", 1999, 10)}\n",
    "\n"
   ]
  },
  {
   "cell_type": "code",
   "execution_count": 1511,
   "metadata": {},
   "outputs": [],
   "source": [
    "if 'table' == [x[0] for i,x in enumerate(CATALOGUE)]:\n",
    "    print('hi')"
   ]
  },
  {
   "cell_type": "code",
   "execution_count": 1792,
   "metadata": {},
   "outputs": [
    {
     "data": {
      "text/plain": [
       "['chair', 'table', 'lamp']"
      ]
     },
     "execution_count": 1792,
     "metadata": {},
     "output_type": "execute_result"
    }
   ],
   "source": [
    "    CATALOGUE = {(\"table\", 9999, 20), (\"chair\", 2999, 5), (\"lamp\", 1999, 10)}\n",
    "    \n",
    "    name_list = [item[0] for item in CATALOGUE]\n",
    "    name_list"
   ]
  },
  {
   "cell_type": "code",
   "execution_count": 1524,
   "metadata": {},
   "outputs": [
    {
     "data": {
      "text/plain": [
       "[('table', 9999, 20)]"
      ]
     },
     "execution_count": 1524,
     "metadata": {},
     "output_type": "execute_result"
    }
   ],
   "source": [
    "[t[:]for t in CATALOGUE if t[0] == 'table']\n"
   ]
  },
  {
   "cell_type": "code",
   "execution_count": 1987,
   "metadata": {},
   "outputs": [],
   "source": [
    "\n",
    "\n",
    "def add_item_to_order(name, quantity, order):\n",
    "    \n",
    "    CATALOGUE = {(\"table\", 9999, 20), (\"chair\", 2999, 5), (\"lamp\", 1999, 10)}\n",
    "    \n",
    "    #name_list = [item[0] for item in CATALOGUE]\n",
    "    #price_list = [item[1] for item in CATALOGUE]\n",
    "    #weight_list = [item[2] for item in CATALOGUE]\n",
    "    \n",
    "    \n",
    "    name1 = name.split(sep=None, maxsplit = -1)\n",
    "    #quantity = quantity.split(sep=None, maxsplit = -1)\n",
    "    \n",
    "    old_name_list = [item[0] for item in order]\n",
    "    old_quantity_list = [int(item[1]) for item in order]\n",
    "    old_price_list = [item[2] for item in order]\n",
    "    old_weight_list = [item[3] for item in order]\n",
    "   \n",
    "    #old_quantity_list = int(old_quantity_list)\n",
    "    #print('old price list0.5', old_price_list)\n",
    "\n",
    "    #Updated_number = old_quantity_list\n",
    "    updated_number = old_quantity_list\n",
    "    #print(name1, old_name_list)\n",
    "\n",
    "    if len(order) ==0:\n",
    "        \n",
    "        zero_list = [list(t[:])for t in CATALOGUE if t[0] == name]\n",
    "        emty_list = []\n",
    "        for i in ([quantity]):\n",
    "            emty_list.append(i)\n",
    "            \n",
    "        zero_list.insert(1,emty_list)\n",
    "        #print(zero_list)\n",
    "        \n",
    "        total = []\n",
    "        for i in zero_list:\n",
    "            total+= i\n",
    "            \n",
    "        Tuple_list = set()\n",
    "        Tuple1 = {(total[0], total[3], total[1],total[2])}\n",
    "        #Tuple1 = list(Tuple1)\n",
    "        #Tuple_list.update(Tuple1)\n",
    "       # Tuple1 = set(Tuple1)\n",
    "        return Tuple1\n",
    "\n",
    "\n",
    "    #    for i in zero_list:\n",
    "    #        element.append(i)\n",
    "    #    print(element)\n",
    "        \n",
    "        #zero_list = set(zero_list)\n",
    "        #zero_list = zero_list + (1,)\n",
    "        #for i in zero_list:\n",
    "            #zero_list1.append(zero_list1)\n",
    "        #zero_list1 = [i for i in (zero_list)]\n",
    "            \n",
    "        \n",
    "        \n",
    "        #print(new_list)\n",
    "        #print(zero_list1)\n",
    "\n",
    "        \n",
    "    else:\n",
    "\n",
    "        if name1 != old_name_list:\n",
    "            raise KeyError('No listed Product')\n",
    "        \n",
    "    \n",
    "        \n",
    "    \n",
    "    \n",
    "        elif name1 == old_name_list:\n",
    "            updated_number.append(quantity)\n",
    "    \n",
    "\n",
    "\n",
    "    \n",
    "    updated_number = sum(updated_number)\n",
    "    name = str(name)\n",
    "    updated_number = str(updated_number)\n",
    "    old_price_list = str(old_price_list)\n",
    "    #print('old price list1', old_price_list)\n",
    "    old_weight_list = str(old_weight_list)\n",
    "    \n",
    "    name= name.replace(\"[\",\"\")\n",
    "    name= name.replace(\"]\",\"\")\n",
    "    \n",
    "    name= name.replace(\"'\",\"\")\n",
    "    \n",
    "    old_price_list = old_price_list.replace(\"[\",\"\")\n",
    "    old_price_list = old_price_list.replace(\"]\",\"\")\n",
    "    \n",
    "    old_weight_list = old_weight_list.replace(\"[\",\"\")\n",
    "    old_weight_list = old_weight_list.replace(\"]\",\"\")\n",
    "\n",
    "    #print('old price list2', old_price_list)\n",
    "   \n",
    "    try:\n",
    "        Tuple2 = {((name,int(float(updated_number)),int(float(old_price_list)),int(float(old_weight_list))))}\n",
    "        return Tuple2\n",
    "\n",
    "    except ValueError:\n",
    "        pass\n",
    "    \n",
    "    \n",
    "    \n",
    "        \n",
    "    "
   ]
  },
  {
   "cell_type": "code",
   "execution_count": 1994,
   "metadata": {},
   "outputs": [],
   "source": [
    "def normalize_prices(prices):\n",
    "\n",
    "\n",
    "    size = []\n",
    "    for y,i in enumerate(prices):\n",
    "        size.append(len(i))\n",
    "    \n",
    "    \n",
    "    if size[0] == 1:\n",
    "        print('Only 1 value')\n",
    "    \n",
    "    if size[0] and size[1] > 1:\n",
    "        if size[0] != size[1]:\n",
    "           raise ValueError('mismatched error!!')\n",
    "    \n",
    "    \n",
    "    if size[0] == size[1]:\n",
    "    \n",
    "    \n",
    "        import numpy as np\n",
    "        Base_Value = prices[0][0]/100\n",
    "        List = []  \n",
    "        for y in (prices):\n",
    "            Normalised = (np.asarray(y)/Base_Value)\n",
    "            Normalised = list(Normalised)\n",
    "            List.append(Normalised)     \n",
    "    \n",
    "    \n",
    "        \n",
    "        return(List)\n",
    "    "
   ]
  },
  {
   "cell_type": "code",
   "execution_count": 2079,
   "metadata": {},
   "outputs": [],
   "source": [
    "import re\n",
    "\n",
    "\n",
    "# Sample from 20,000 leagues under the sea by Jules Verne\n",
    "\n",
    "TEXT_SAMPLE = \"\"\"\n",
    "Striking an average of observations taken at different times-- rejecting those\n",
    "timid estimates that gave the object a length of 200 feet, and ignoring those\n",
    "exaggerated views that saw it as a mile wide and three long--you could still\n",
    "assert that this phenomenal creature greatly exceeded the dimensions of\n",
    "anything then known to ichthyologists, if it existed at all.\n",
    "Now then, it did exist, this was an undeniable fact; and since the human mind\n",
    "dotes on objects of wonder, you can understand the worldwide excitement caused\n",
    "by this unearthly apparition. As for relegating it to the realm of fiction,\n",
    "that charge had to be dropped.\n",
    "In essence, on July 20, 1866, the steamer Governor Higginson, from the\n",
    "Calcutta & Burnach Steam Navigation Co., encountered this moving mass five\n",
    "miles off the eastern shores of Australia.\"\"\"\n",
    "\n",
    "TEXT_SAMPLE2 = \"\"\"hi, I have 2,334,989 candy ans 12 crisps\"\"\""
   ]
  },
  {
   "cell_type": "code",
   "execution_count": 2035,
   "metadata": {},
   "outputs": [],
   "source": [
    "def extract_numbers(text):\n",
    "    \"\"\"\n",
    "    This function finds all the numbers in the text and returns them in a list\n",
    "    of floats.\n",
    "\n",
    "    NOTE: commas are used to separate thousands\n",
    "    NOTE: several consecutive numbers are separated by a comma and a space\n",
    "\n",
    "    E.g., extract_numbers(\"this is 1 awesome string\") is [1.0]\n",
    "    E.g., extract_numbers(\"12 days of XMas\") is [12.0]\n",
    "    E.g., extract_numbers(\"1, 2, 3, un pasito pa'lante Maria\")\n",
    "    is [1.0, 2.0, 3.0]\n",
    "\n",
    "    :param text: string that forms English text\n",
    "    :return: list of numbers (as floats) that are present in the text\n",
    "    :rtype: list\n",
    "    \"\"\"\n",
    "    raise NotImplementedError"
   ]
  },
  {
   "cell_type": "code",
   "execution_count": 2028,
   "metadata": {},
   "outputs": [
    {
     "data": {
      "text/plain": [
       "['200', '20', '1866']"
      ]
     },
     "execution_count": 2028,
     "metadata": {},
     "output_type": "execute_result"
    }
   ],
   "source": [
    "Number = re.findall(r'\\d+', TEXT_SAMPLE)\n",
    "Number"
   ]
  },
  {
   "cell_type": "code",
   "execution_count": 2013,
   "metadata": {},
   "outputs": [
    {
     "name": "stdout",
     "output_type": "stream",
     "text": [
      "[200.0, 20.0, 1866.0]\n"
     ]
    }
   ],
   "source": [
    "Number_List = []\n",
    "for i in Number:\n",
    "    i = float(i)\n",
    "    Number_List.append(i)\n",
    "print(Number_List)\n"
   ]
  },
  {
   "cell_type": "code",
   "execution_count": 2163,
   "metadata": {},
   "outputs": [],
   "source": [
    "def extract_numbers(text):\n",
    "\n",
    "    if len(re.findall('\\d+[,]\\d+[,]\\d+', text)) == 0:\n",
    "        Number = re.findall(r'\\d+', text)\n",
    "        Number_List = []\n",
    "        for i in Number:\n",
    "            i = float(i)\n",
    "            Number_List.append(i)\n",
    "        return Number_List\n",
    "\n",
    "    if len(re.findall('\\d+[,]\\d+[,]\\d+', text))>0:\n",
    "        Number_comma = re.findall('\\d+[,]\\d+[,]\\d+', text)\n",
    "        Number_comma = Number_comma\n",
    "        Number_comma = str(Number_comma)\n",
    "\n",
    "        Number_comma = Number_comma.replace(',','')\n",
    "        \n",
    "        Number_comma = Number_comma.strip()\n",
    "        Number_comma = Number_comma[2:9]\n",
    "        Number_comma = [float(Number_comma)]\n",
    "        \n",
    "        return Number_comma\n",
    "    \n",
    "  \n"
   ]
  },
  {
   "cell_type": "code",
   "execution_count": 2166,
   "metadata": {},
   "outputs": [
    {
     "data": {
      "text/plain": [
       "[200.0, 20.0, 1866.0]"
      ]
     },
     "execution_count": 2166,
     "metadata": {},
     "output_type": "execute_result"
    }
   ],
   "source": [
    "extract_numbers(TEXT_SAMPLE)"
   ]
  },
  {
   "cell_type": "code",
   "execution_count": 2053,
   "metadata": {},
   "outputs": [
    {
     "data": {
      "text/plain": [
       "[]"
      ]
     },
     "execution_count": 2053,
     "metadata": {},
     "output_type": "execute_result"
    }
   ],
   "source": [
    "Number2 = re.findall('\\d+[,]\\d+[,]\\d+', TEXT_SAMPLE)\n",
    "Number2"
   ]
  },
  {
   "cell_type": "code",
   "execution_count": 2167,
   "metadata": {},
   "outputs": [],
   "source": [
    "def latin_ish_words(text):\n",
    "    \"\"\"\n",
    "    English has words from Latin (or Spanish, Italian, French, etc.) and from\n",
    "    German (or Dutch, etc.). They are often easy to tell apart. This function\n",
    "    picks up some of the Latin sounding words based on some of their features.\n",
    "\n",
    "    Latin features:\n",
    "        - tion (as in navigation, isolation, or mitigation)\n",
    "        - ex (as in explanation, exfiltrate, or expert)\n",
    "        - ph (as in philosophy, philanthropy, or ephemera)\n",
    "        - ost, ist, ast (as in hostel, distribute, past)\n",
    "\n",
    "    NOTE: this matching method is not exact, many Germanic words include those\n",
    "    features, and many Latin words lack them.\n",
    "    NOTE: matching this way should ignore case. For the purpose of this exercise,\n",
    "    we want to match any word containing at least one of the strings above.\n",
    "    NOTE: the latin feature can be in the middle of the word, it can be a suffix,\n",
    "    a prefix or a full word on its own.\n",
    "\n",
    "    E.g., latin_ish_words(\"This works well\") is []\n",
    "    E.g., latin_ish_words(\"This functions as expected\")\n",
    "    is [\"functions\", \"expected\"]\n",
    "\n",
    "    :param text: string that forms English text\n",
    "    :return: list of words present in the text that have any of the Latin\n",
    "    features listed above. Order of the words in the list should be the same as\n",
    "    how they appear in the text.\n",
    "    :rtype: list\n",
    "    \"\"\""
   ]
  },
  {
   "cell_type": "code",
   "execution_count": 2255,
   "metadata": {},
   "outputs": [
    {
     "name": "stdout",
     "output_type": "stream",
     "text": [
      "['observation', 'exaggerated', 'phenomenal', 'exceeded', 'ichthyologist', 'existed', 'exist', 'excitement', 'apparition', 'fiction', 'Navigation', 'eastern']\n"
     ]
    }
   ],
   "source": [
    "Latin = re.findall(r\"\\w+tion|ex\\w+|ph\\w+|\\w+ist|\\w+ost|\\w+ast\\w+\",TEXT_SAMPLE,re.IGNORECASE)\n",
    "print(Latin)"
   ]
  },
  {
   "cell_type": "code",
   "execution_count": 2209,
   "metadata": {},
   "outputs": [
    {
     "data": {
      "text/plain": [
       "[]"
      ]
     },
     "execution_count": 2209,
     "metadata": {},
     "output_type": "execute_result"
    }
   ],
   "source": [
    "Latin1 = re.findall(r\"\\w+ex\\w+\",TEXT_SAMPLE)\n",
    "\n",
    "Latin1"
   ]
  },
  {
   "cell_type": "code",
   "execution_count": 2356,
   "metadata": {},
   "outputs": [],
   "source": [
    "import re\n",
    "\n",
    "\n",
    "# Sample from 20,000 leagues under the sea by Jules Verne\n",
    "\n",
    "TEXT_SAMPLE = \"\"\"\n",
    "Striking an average of observations taken at different times-- rejecting those\n",
    "timid estimates that gave the object a length of 200 feet, and ignoring those\n",
    "exaggerated views that saw it as a mile wide and three long--you could still\n",
    "assert that this phenomenal creature greatly exceeded the dimensions of\n",
    "anything then known to ichthyologists, if it existed at all.\n",
    "Now then, it did exist, this was an undeniable fact; and since the human mind\n",
    "dotes on objects of wonder, you can understand the worldwide excitement caused\n",
    "by this unearthly apparition. As for relegating it to the realm of fiction,\n",
    "that charge had to be dropped.\n",
    "In essence, on July 20, 1866, the steamer Governor Higginson, from the\n",
    "Calcutta & Burnach Steam Navigation Co., encountered this moving mass five\n",
    "miles off the eastern shores of Australia.\"\"\"\n",
    "\n",
    "TEXT_SAMPLE2 = \"\"\"hi, I have 2,334,989 candy ans 12 crisps\"\"\"\n",
    "TEXT_SAMPLE3 = 'functions, expected'\n",
    "TEXT_SAMPLE4 = \"Whilst philosophisation isn't a word per-se, it is made of philosophy and the suffix tion\"\n",
    "TEXT_SAMPLE5 = 'Philosophy ex nihilo existed in the past'\n",
    "TEXT_SAMPLE6 = \"\"\"Striking an average of observations taken at different times-- rejecting those timid estimates\n",
    "that gave the object a length of 200 feet, and ignoring those exaggerated views \n",
    "that saw it as a mile wide and three long--you could still assert that \n",
    "this phenomenal creature greatly exceeded the dimensions of anything then known \n",
    "to ichthyologists, if it existed at all. Now then, it did exist, \n",
    "this was an undeniable fact; and since the human mind dotes on objects of wonder,\n",
    "you can understand the worldwide excitement caused by this unearthly apparition.\n",
    "As for relegating it to the realm of fiction, that charge had to be dropped. \n",
    "In essence, on July 20, 1866, the steamer Governor Higginson, from the Calcutta & Burnach Steam Navigation\n",
    "Co., encountered this moving mass five miles off the eastern shores of Australia. \"\"\"\n",
    "\n"
   ]
  },
  {
   "cell_type": "code",
   "execution_count": 2375,
   "metadata": {},
   "outputs": [],
   "source": [
    "def latin_ish_words(text):\n",
    "    Latin = re.findall(r\"\\w+tion\\w+|tion|\\w+tion|ex\\w+|ph\\w+|\\w+ist\\w+|ex|\\w+ost|\\w+ast\\w+|\\w+ast\",text,re.IGNORECASE)\n",
    "    return Latin\n"
   ]
  },
  {
   "cell_type": "code",
   "execution_count": 2376,
   "metadata": {},
   "outputs": [
    {
     "data": {
      "text/plain": [
       "['Philosophy', 'ex', 'existed', 'past']"
      ]
     },
     "execution_count": 2376,
     "metadata": {},
     "output_type": "execute_result"
    }
   ],
   "source": [
    "latin_ish_words(TEXT_SAMPLE5)"
   ]
  },
  {
   "cell_type": "code",
   "execution_count": 2374,
   "metadata": {},
   "outputs": [
    {
     "name": "stdout",
     "output_type": "stream",
     "text": [
      "['observations', 'exaggerated', 'phenomenal', 'exceeded', 'ichthyologists', 'existed', 'exist', 'excitement', 'apparition', 'fiction', 'Navigation', 'eastern']\n"
     ]
    }
   ],
   "source": [
    "Latin2 = re.findall(r\"\\w+tion\\w+|tion|\\w+tion|ex\\w+|ph\\w+|\\w+ist\\w+|ex|\\w+ost|\\w+ast\\w+|\\w+ast\",TEXT_SAMPLE6,re.IGNORECASE)\n",
    "\n",
    "print(Latin2)\n"
   ]
  },
  {
   "cell_type": "code",
   "execution_count": 2998,
   "metadata": {},
   "outputs": [],
   "source": [
    "w1 = 10\n",
    "\n",
    "w2 = 4\n",
    "\n",
    "x = 7\n",
    "\n",
    "    \n",
    "#answer is 125"
   ]
  },
  {
   "cell_type": "code",
   "execution_count": 2999,
   "metadata": {},
   "outputs": [],
   "source": [
    "def derivative(w1, w2, x):\n",
    "    \"\"\"\n",
    "    Given the following function f(x) = w1 * x^3 + w2 * x - 1\n",
    "    evaluate the derivative of the function on x\n",
    "\n",
    "    :param w1: first coefficient\n",
    "    :param w2: second coefficient\n",
    "    :param x: point on which to evaluate derivative (float)\n",
    "    :return: value of the derivative on point x\n",
    "    :rtype: float\n",
    "    \"\"\"\n",
    "    return 12"
   ]
  },
  {
   "cell_type": "code",
   "execution_count": 2957,
   "metadata": {},
   "outputs": [
    {
     "ename": "SyntaxError",
     "evalue": "invalid syntax (<ipython-input-2957-cd32a4f49e2d>, line 1)",
     "output_type": "error",
     "traceback": [
      "\u001b[0;36m  File \u001b[0;32m\"<ipython-input-2957-cd32a4f49e2d>\"\u001b[0;36m, line \u001b[0;32m1\u001b[0m\n\u001b[0;31m    10*(x^3)+5x-1\u001b[0m\n\u001b[0m              ^\u001b[0m\n\u001b[0;31mSyntaxError\u001b[0m\u001b[0;31m:\u001b[0m invalid syntax\n"
     ]
    }
   ],
   "source": [
    "10*(x^3)+5x-1 \n",
    "=10*(2x^2)+5\n",
    "\n"
   ]
  },
  {
   "cell_type": "code",
   "execution_count": 2971,
   "metadata": {},
   "outputs": [],
   "source": [
    "def derivative(w1, w2, x):\n",
    "\n",
    "\n",
    "    answer = (w1*(3*x*x))+w2\n",
    "    return float(answer)"
   ]
  },
  {
   "cell_type": "code",
   "execution_count": 2972,
   "metadata": {},
   "outputs": [
    {
     "data": {
      "text/plain": [
       "1474.0"
      ]
     },
     "execution_count": 2972,
     "metadata": {},
     "output_type": "execute_result"
    }
   ],
   "source": [
    "derivative(w1,w2,x)"
   ]
  },
  {
   "cell_type": "code",
   "execution_count": 2973,
   "metadata": {},
   "outputs": [],
   "source": [
    "def abs_dist(x):\n",
    "    \"\"\"\n",
    "    Return the absolute value of x\n",
    "\n",
    "    :param x: a number (float)\n",
    "    :return: absolute value of x\n",
    "    :rtype: float\n",
    "    \"\"\"\n",
    "    raise NotImplementedError"
   ]
  },
  {
   "cell_type": "code",
   "execution_count": 2982,
   "metadata": {},
   "outputs": [],
   "source": [
    "def abs_dist(x):\n",
    "    \n",
    "    return float(abs(x))\n",
    "    "
   ]
  },
  {
   "cell_type": "code",
   "execution_count": 2983,
   "metadata": {},
   "outputs": [
    {
     "data": {
      "text/plain": [
       "7.0"
      ]
     },
     "execution_count": 2983,
     "metadata": {},
     "output_type": "execute_result"
    }
   ],
   "source": [
    "abs_dist(x)"
   ]
  },
  {
   "cell_type": "code",
   "execution_count": 2979,
   "metadata": {},
   "outputs": [
    {
     "data": {
      "text/plain": [
       "7"
      ]
     },
     "execution_count": 2979,
     "metadata": {},
     "output_type": "execute_result"
    }
   ],
   "source": [
    "abs(-7)"
   ]
  },
  {
   "cell_type": "code",
   "execution_count": 2984,
   "metadata": {},
   "outputs": [],
   "source": [
    "def fact(x):\n",
    "    \"\"\"\n",
    "    Return the factorial of x.\n",
    "    Your function should raise a ValueError\n",
    "    if x is negative\n",
    "\n",
    "    :param x: a number (int)\n",
    "    :return: the factorial of x\n",
    "    :rtype: float\n",
    "    :raise ValueError:\n",
    "    \"\"\"\n",
    "    raise NotImplementedError\n",
    "\n"
   ]
  },
  {
   "cell_type": "code",
   "execution_count": 3001,
   "metadata": {},
   "outputs": [],
   "source": [
    "number = 0\n",
    "for i in range(x):\n",
    "    number += i"
   ]
  },
  {
   "cell_type": "code",
   "execution_count": 3002,
   "metadata": {},
   "outputs": [
    {
     "name": "stdout",
     "output_type": "stream",
     "text": [
      "6\n"
     ]
    }
   ],
   "source": [
    "print(i)"
   ]
  },
  {
   "cell_type": "code",
   "execution_count": 3019,
   "metadata": {},
   "outputs": [
    {
     "data": {
      "text/plain": [
       "[1, 2, 3, 4, 5, 6]"
      ]
     },
     "execution_count": 3019,
     "metadata": {},
     "output_type": "execute_result"
    }
   ],
   "source": [
    "factorial = 1\n",
    "[i for i in range(x) if i !=0]\n"
   ]
  },
  {
   "cell_type": "code",
   "execution_count": 3048,
   "metadata": {},
   "outputs": [],
   "source": [
    "x = -1"
   ]
  },
  {
   "cell_type": "code",
   "execution_count": 3042,
   "metadata": {},
   "outputs": [],
   "source": [
    "def fact(x):\n",
    "   if x == 0:\n",
    "       return 1\n",
    "   else:\n",
    "       return x*(x-1)\n"
   ]
  },
  {
   "cell_type": "code",
   "execution_count": 3043,
   "metadata": {},
   "outputs": [
    {
     "data": {
      "text/plain": [
       "362880"
      ]
     },
     "execution_count": 3043,
     "metadata": {},
     "output_type": "execute_result"
    }
   ],
   "source": [
    "recur_factorial(x)"
   ]
  },
  {
   "cell_type": "code",
   "execution_count": 3049,
   "metadata": {},
   "outputs": [],
   "source": [
    "def fact(x):\n",
    "    \n",
    "    if x<0:\n",
    "        raise ValueError('ValueError!')\n",
    "    \n",
    "    else:\n",
    "        \n",
    "        if x == 0:\n",
    "            return 1\n",
    "        else:\n",
    "            return x * fact(x-1)"
   ]
  },
  {
   "cell_type": "code",
   "execution_count": 3050,
   "metadata": {},
   "outputs": [
    {
     "ename": "ValueError",
     "evalue": "ValueError!",
     "output_type": "error",
     "traceback": [
      "\u001b[0;31m---------------------------------------------------------------------------\u001b[0m",
      "\u001b[0;31mValueError\u001b[0m                                Traceback (most recent call last)",
      "\u001b[0;32m<ipython-input-3050-cff06ef09a56>\u001b[0m in \u001b[0;36m<module>\u001b[0;34m\u001b[0m\n\u001b[0;32m----> 1\u001b[0;31m \u001b[0mfact\u001b[0m\u001b[0;34m(\u001b[0m\u001b[0mx\u001b[0m\u001b[0;34m)\u001b[0m\u001b[0;34m\u001b[0m\u001b[0;34m\u001b[0m\u001b[0m\n\u001b[0m",
      "\u001b[0;32m<ipython-input-3049-fcccab6a5249>\u001b[0m in \u001b[0;36mfact\u001b[0;34m(x)\u001b[0m\n\u001b[1;32m      2\u001b[0m \u001b[0;34m\u001b[0m\u001b[0m\n\u001b[1;32m      3\u001b[0m     \u001b[0;32mif\u001b[0m \u001b[0mx\u001b[0m\u001b[0;34m<\u001b[0m\u001b[0;36m0\u001b[0m\u001b[0;34m:\u001b[0m\u001b[0;34m\u001b[0m\u001b[0;34m\u001b[0m\u001b[0m\n\u001b[0;32m----> 4\u001b[0;31m         \u001b[0;32mraise\u001b[0m \u001b[0mValueError\u001b[0m\u001b[0;34m(\u001b[0m\u001b[0;34m'ValueError!'\u001b[0m\u001b[0;34m)\u001b[0m\u001b[0;34m\u001b[0m\u001b[0;34m\u001b[0m\u001b[0m\n\u001b[0m\u001b[1;32m      5\u001b[0m \u001b[0;34m\u001b[0m\u001b[0m\n\u001b[1;32m      6\u001b[0m     \u001b[0;32melse\u001b[0m\u001b[0;34m:\u001b[0m\u001b[0;34m\u001b[0m\u001b[0;34m\u001b[0m\u001b[0m\n",
      "\u001b[0;31mValueError\u001b[0m: ValueError!"
     ]
    }
   ],
   "source": [
    "fact(x)"
   ]
  },
  {
   "cell_type": "code",
   "execution_count": 3051,
   "metadata": {},
   "outputs": [],
   "source": [
    "def combination(n, r):\n",
    "    \"\"\"\n",
    "    Given n total number of items,\n",
    "    what is the number of possible ways\n",
    "    to choose r items from it?\n",
    "\n",
    "    :param n: total number of items (integer)\n",
    "    :param r: number of items to arrange (int)\n",
    "    :return: number of combinations\n",
    "    :rtype: integer\n",
    "    \"\"\"\n",
    "    raise NotImplementedError\n",
    "\n"
   ]
  },
  {
   "cell_type": "code",
   "execution_count": 3236,
   "metadata": {},
   "outputs": [],
   "source": [
    "      n = 8\n",
    "\n",
    "      r = 3"
   ]
  },
  {
   "cell_type": "code",
   "execution_count": 3237,
   "metadata": {},
   "outputs": [],
   "source": [
    "def combination(n,r):\n",
    "    \n",
    "    n_list = []\n",
    "    for i in range(n+1):\n",
    "        \n",
    "        if i != 0:\n",
    "            n_list.append(i)\n",
    "    print(n_list)\n",
    "    n_list_acc = 1\n",
    "    for i in n_list:\n",
    "        n_list_acc = n_list_acc*i\n",
    "        \n",
    "        \n",
    "    r_list = []\n",
    "    for i in range(r+1):\n",
    "        if i != 0:\n",
    "            r_list.append(i)\n",
    "    print(r_list)\n",
    "    r_list_acc = 1\n",
    "    for i in r_list:\n",
    "        r_list_acc = r_list_acc*i\n",
    "        \n",
    "        \n",
    "    n_r_list = []\n",
    "    for i in range((n-r)+1):\n",
    "        if i != 0:\n",
    "            n_r_list.append(i)\n",
    "    print(n_r_list)\n",
    "    n_r_list_acc = 1\n",
    "    for i in n_r_list:\n",
    "        n_r_list_acc = n_r_list_acc*i\n",
    "        \n",
    "    \n",
    "    final = n_list_acc/(r_list_acc*n_r_list_acc)\n",
    "    \n",
    "\n",
    "    return  final\n",
    "\n",
    "    "
   ]
  },
  {
   "cell_type": "code",
   "execution_count": 3238,
   "metadata": {},
   "outputs": [
    {
     "name": "stdout",
     "output_type": "stream",
     "text": [
      "[1, 2, 3, 4, 5, 6, 7, 8]\n",
      "[1, 2, 3]\n",
      "[1, 2, 3, 4, 5]\n"
     ]
    },
    {
     "data": {
      "text/plain": [
       "(40320, 6, 120, 56.0)"
      ]
     },
     "execution_count": 3238,
     "metadata": {},
     "output_type": "execute_result"
    }
   ],
   "source": [
    "combination(n,r)"
   ]
  },
  {
   "cell_type": "code",
   "execution_count": 3212,
   "metadata": {},
   "outputs": [
    {
     "name": "stdout",
     "output_type": "stream",
     "text": [
      "[1, 2]\n"
     ]
    }
   ],
   "source": [
    "    r_list = []\n",
    "    for i in range(3):\n",
    "        if i != 0:\n",
    "            r_list.append(i)\n",
    "\n",
    "    print(r_list)\n",
    "    r_list_acc = 1\n",
    "    \n",
    "    for i in r_list:\n",
    "        \n",
    "        r_list_acc = r_list_acc*i\n",
    "        "
   ]
  },
  {
   "cell_type": "code",
   "execution_count": 3211,
   "metadata": {},
   "outputs": [
    {
     "name": "stdout",
     "output_type": "stream",
     "text": [
      "2\n"
     ]
    }
   ],
   "source": [
    "print(r_list_acc)"
   ]
  },
  {
   "cell_type": "code",
   "execution_count": null,
   "metadata": {},
   "outputs": [],
   "source": []
  }
 ],
 "metadata": {
  "kernelspec": {
   "display_name": "Python 3.7.4 64-bit ('base': conda)",
   "language": "python",
   "name": "python37464bitbaseconda11399a559eb548cab5a42b481ac0a22d"
  },
  "language_info": {
   "codemirror_mode": {
    "name": "ipython",
    "version": 3
   },
   "file_extension": ".py",
   "mimetype": "text/x-python",
   "name": "python",
   "nbconvert_exporter": "python",
   "pygments_lexer": "ipython3",
   "version": "3.7.4"
  }
 },
 "nbformat": 4,
 "nbformat_minor": 4
}
