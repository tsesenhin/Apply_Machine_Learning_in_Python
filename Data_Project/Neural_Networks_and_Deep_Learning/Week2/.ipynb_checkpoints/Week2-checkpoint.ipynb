{
 "cells": [
  {
   "cell_type": "markdown",
   "metadata": {},
   "source": [
    "# Vectorisation Demo\n"
   ]
  },
  {
   "cell_type": "code",
   "execution_count": 60,
   "metadata": {},
   "outputs": [
    {
     "name": "stdout",
     "output_type": "stream",
     "text": [
      "[1 2 3 4]\n"
     ]
    }
   ],
   "source": [
    "import numpy as np\n",
    "\n",
    "a = np.array([1,2,3,4])\n",
    "print(a)"
   ]
  },
  {
   "cell_type": "code",
   "execution_count": 47,
   "metadata": {},
   "outputs": [
    {
     "name": "stdout",
     "output_type": "stream",
     "text": [
      "(3,)\n",
      "(3,)\n",
      "Vectorised version: 2.7840137481689453 ms\n",
      "0.768632266454745\n"
     ]
    }
   ],
   "source": [
    "import time\n",
    "\n",
    "b = np.random.rand(3)\n",
    "print(b.shape)\n",
    "c = np.random.rand(3)\n",
    "print(c.shape)\n",
    "\n",
    "tic = time.time()\n",
    "d = np.dot(b,c) # two 1D array multiplication\n",
    "toc = time.time()# second since 1970-01-01\n",
    "print('Vectorised version: ' + str(1000*(toc-tic)) + ' ms')\n",
    "print(d)"
   ]
  },
  {
   "cell_type": "code",
   "execution_count": 81,
   "metadata": {},
   "outputs": [
    {
     "name": "stdout",
     "output_type": "stream",
     "text": [
      "b 0.05540657299331653 c 0.19886820677963224 d 0.011018605814985658\n",
      "b 0.8738834542366543 c 0.1391085500536654 d 0.1325832660497353\n",
      "b 0.7337243745394482 c 0.549653175389368 d 0.535877198375921\n",
      "hu 0.535877198375921\n",
      "For loop:1.8701553344726562ms\n"
     ]
    }
   ],
   "source": [
    "d = 0\n",
    "tic = time.time()\n",
    "for i in range(3):\n",
    "    d += b[i]*c[i] # you multiply b and c of the first row and get d\n",
    "    #you then multiply b and c of the second row and add that number to the previous d and so on\n",
    "    #note, b[i] means the row number that matches the i in for loop\n",
    "    print('b', b[i], 'c', c[i],'d', d)\n",
    "toc = time.time()\n",
    "\n",
    "\n",
    "print('hu', d)\n",
    "print(\"For loop:\" + str(1000*(toc-tic)) + 'ms')"
   ]
  },
  {
   "cell_type": "code",
   "execution_count": 72,
   "metadata": {},
   "outputs": [],
   "source": [
    "# As above, for loop is slower than vectorisation!!! "
   ]
  },
  {
   "cell_type": "code",
   "execution_count": 71,
   "metadata": {},
   "outputs": [
    {
     "name": "stdout",
     "output_type": "stream",
     "text": [
      "b [0.05540657 0.87388345 0.73372437] c [0.19886821 0.13910855 0.54965318] d [0.01101861 0.12156466 0.40329393]\n",
      "b [0.05540657 0.87388345 0.73372437] c [0.19886821 0.13910855 0.54965318] d [0.02203721 0.24312932 0.80658786]\n",
      "b [0.05540657 0.87388345 0.73372437] c [0.19886821 0.13910855 0.54965318] d [0.03305582 0.36469398 1.2098818 ]\n",
      "hu [0.03305582 0.36469398 1.2098818 ]\n",
      "For loop:2.173900604248047ms\n"
     ]
    }
   ],
   "source": [
    "d = 0\n",
    "tic = time.time()\n",
    "for i in range(3):\n",
    "    d += b*c # you multiply b and c of the first row and get d,\n",
    "    #you then multiply b and c of the second row and add that number to the previous d and so on\n",
    "    print('b', b, 'c', c,'d', d)\n",
    "toc = time.time()\n",
    "\n",
    "\n",
    "print('hu', d)\n",
    "print(\"For loop:\" + str(1000*(toc-tic)) + 'ms')"
   ]
  },
  {
   "cell_type": "markdown",
   "metadata": {},
   "source": [
    "# Broadcasting Example"
   ]
  },
  {
   "cell_type": "code",
   "execution_count": 5,
   "metadata": {},
   "outputs": [
    {
     "name": "stdout",
     "output_type": "stream",
     "text": [
      "[[ 56.    0.    4.4  68. ]\n",
      " [  1.2 104.   52.    8. ]\n",
      " [  1.8 135.   99.    0.9]]\n"
     ]
    },
    {
     "data": {
      "text/plain": [
       "(3, 4)"
      ]
     },
     "execution_count": 5,
     "metadata": {},
     "output_type": "execute_result"
    }
   ],
   "source": [
    "import numpy as np\n",
    "\n",
    "A = np.array([[56.0,0.0,4.4,68.0],\n",
    "            [1.2,104.0,52.0,8.0],\n",
    "              [1.8,135.0,99.0,0.9]])\n",
    "\n",
    "print(A)\n",
    "A.shape"
   ]
  },
  {
   "cell_type": "code",
   "execution_count": 7,
   "metadata": {},
   "outputs": [
    {
     "name": "stdout",
     "output_type": "stream",
     "text": [
      "[ 59.  239.  155.4  76.9]\n"
     ]
    },
    {
     "data": {
      "text/plain": [
       "(4,)"
      ]
     },
     "execution_count": 7,
     "metadata": {},
     "output_type": "execute_result"
    }
   ],
   "source": [
    "cal = A.sum(axis = 0) #axis = 0 equal sum of the each column of variable A\n",
    "print(cal)\n",
    "cal.shape"
   ]
  },
  {
   "cell_type": "code",
   "execution_count": 9,
   "metadata": {},
   "outputs": [
    {
     "name": "stdout",
     "output_type": "stream",
     "text": [
      "[[94.91525424  0.          2.83140283 88.42652796]\n",
      " [ 2.03389831 43.51464435 33.46203346 10.40312094]\n",
      " [ 3.05084746 56.48535565 63.70656371  1.17035111]]\n"
     ]
    }
   ],
   "source": [
    "# the below allows each 'A' element to be divided by the corrsponding column sum \n",
    "# despite cal and A is in different np.array size.\n",
    "# This is a method of broadcasting in numpy\n",
    "\n",
    "percentage = 100*(A/cal)\n",
    "\n",
    "print(percentage)\n"
   ]
  },
  {
   "cell_type": "code",
   "execution_count": 81,
   "metadata": {},
   "outputs": [
    {
     "data": {
      "text/plain": [
       "array([[-1.68637723, -1.00160743, -0.0294313 ],\n",
       "       [-4.90774949, -3.37307668, -3.11450613]])"
      ]
     },
     "execution_count": 81,
     "metadata": {},
     "output_type": "execute_result"
    }
   ],
   "source": [
    "#another example of Broadcasting.\n",
    "a = np.random.randn(2, 3) # a.shape = (2, 3)\n",
    "b = np.random.randn(2, 1) # b.shape = (2, 1)\n",
    "c = a + b\n",
    "c\n"
   ]
  },
  {
   "cell_type": "code",
   "execution_count": 82,
   "metadata": {},
   "outputs": [
    {
     "name": "stdout",
     "output_type": "stream",
     "text": [
      "a_format [[-1.13562336 -0.45085355  0.52132258]\n",
      " [-2.6226104  -1.08793759 -0.82936704]]\n",
      "b_format [[-0.55075387]\n",
      " [-2.28513909]]\n"
     ]
    }
   ],
   "source": [
    "print('a_format',a)\n",
    "print('b_format',b)"
   ]
  },
  {
   "cell_type": "code",
   "execution_count": 85,
   "metadata": {},
   "outputs": [
    {
     "ename": "ValueError",
     "evalue": "operands could not be broadcast together with shapes (4,3) (3,2) ",
     "output_type": "error",
     "traceback": [
      "\u001b[0;31m---------------------------------------------------------------------------\u001b[0m",
      "\u001b[0;31mValueError\u001b[0m                                Traceback (most recent call last)",
      "\u001b[0;32m<ipython-input-85-20aba40ca292>\u001b[0m in \u001b[0;36m<module>\u001b[0;34m\u001b[0m\n\u001b[1;32m      1\u001b[0m \u001b[0ma\u001b[0m \u001b[0;34m=\u001b[0m \u001b[0mnp\u001b[0m\u001b[0;34m.\u001b[0m\u001b[0mrandom\u001b[0m\u001b[0;34m.\u001b[0m\u001b[0mrandn\u001b[0m\u001b[0;34m(\u001b[0m\u001b[0;36m4\u001b[0m\u001b[0;34m,\u001b[0m \u001b[0;36m3\u001b[0m\u001b[0;34m)\u001b[0m \u001b[0;31m# a.shape = (4, 3)\u001b[0m\u001b[0;34m\u001b[0m\u001b[0;34m\u001b[0m\u001b[0m\n\u001b[1;32m      2\u001b[0m \u001b[0mb\u001b[0m \u001b[0;34m=\u001b[0m \u001b[0mnp\u001b[0m\u001b[0;34m.\u001b[0m\u001b[0mrandom\u001b[0m\u001b[0;34m.\u001b[0m\u001b[0mrandn\u001b[0m\u001b[0;34m(\u001b[0m\u001b[0;36m3\u001b[0m\u001b[0;34m,\u001b[0m \u001b[0;36m2\u001b[0m\u001b[0;34m)\u001b[0m \u001b[0;31m# b.shape = (3, 2)\u001b[0m\u001b[0;34m\u001b[0m\u001b[0;34m\u001b[0m\u001b[0m\n\u001b[0;32m----> 3\u001b[0;31m \u001b[0mc\u001b[0m \u001b[0;34m=\u001b[0m \u001b[0ma\u001b[0m\u001b[0;34m*\u001b[0m\u001b[0mb\u001b[0m\u001b[0;34m\u001b[0m\u001b[0;34m\u001b[0m\u001b[0m\n\u001b[0m",
      "\u001b[0;31mValueError\u001b[0m: operands could not be broadcast together with shapes (4,3) (3,2) "
     ]
    }
   ],
   "source": [
    "a = np.random.randn(4, 3) # a.shape = (4, 3)\n",
    "b = np.random.randn(3, 2) # b.shape = (3, 2)\n",
    "c = a*b"
   ]
  },
  {
   "cell_type": "code",
   "execution_count": 86,
   "metadata": {},
   "outputs": [
    {
     "data": {
      "text/plain": [
       "array([[ 0.60128954, -0.681735  , -0.14204999],\n",
       "       [ 1.01044312, -0.2563544 , -1.26494509],\n",
       "       [-1.84269337,  0.40473525, -0.1908569 ],\n",
       "       [ 1.30752395, -0.72149093,  0.6475931 ]])"
      ]
     },
     "execution_count": 86,
     "metadata": {},
     "output_type": "execute_result"
    }
   ],
   "source": [
    "a\n"
   ]
  },
  {
   "cell_type": "code",
   "execution_count": 87,
   "metadata": {},
   "outputs": [
    {
     "data": {
      "text/plain": [
       "array([[-0.56497208,  0.48310868],\n",
       "       [-0.27579635, -0.20586411],\n",
       "       [ 0.34307067,  0.61944222]])"
      ]
     },
     "execution_count": 87,
     "metadata": {},
     "output_type": "execute_result"
    }
   ],
   "source": [
    "b"
   ]
  },
  {
   "cell_type": "code",
   "execution_count": 88,
   "metadata": {},
   "outputs": [
    {
     "data": {
      "text/plain": [
       "array([[ -1.93510951,  -5.76151051,  -3.2223363 , ...,  -0.19724552,\n",
       "        -10.85049813,   2.24561086],\n",
       "       [-13.78048932,  -1.35157888,   2.55143478, ...,  -2.26496774,\n",
       "        -14.3015062 ,  19.4668093 ],\n",
       "       [ -7.54841134, -10.38039206,   2.34446947, ...,  19.6435835 ,\n",
       "         -7.32735052,  15.06908743],\n",
       "       ...,\n",
       "       [ 14.94420702,  15.19976273,   0.91786546, ...,  19.15902824,\n",
       "        -25.16141827,  13.70198261],\n",
       "       [  3.5781771 ,  -3.58637644, -14.42354982, ..., -18.39650619,\n",
       "         -4.94490785,  -6.52594205],\n",
       "       [  9.58368014,  -7.65529954, -13.97869587, ...,  -7.55941861,\n",
       "        -13.86852947, -10.27147485]])"
      ]
     },
     "execution_count": 88,
     "metadata": {},
     "output_type": "execute_result"
    }
   ],
   "source": [
    "c"
   ]
  },
  {
   "cell_type": "code",
   "execution_count": 89,
   "metadata": {},
   "outputs": [],
   "source": [
    "a = np.random.randn(12288, 150) # a.shape = (12288, 150)\n",
    "b = np.random.randn(150, 45) # b.shape = (150, 45)\n",
    "c = np.dot(a,b)"
   ]
  },
  {
   "cell_type": "code",
   "execution_count": 90,
   "metadata": {},
   "outputs": [
    {
     "data": {
      "text/plain": [
       "(12288, 45)"
      ]
     },
     "execution_count": 90,
     "metadata": {},
     "output_type": "execute_result"
    }
   ],
   "source": [
    "c.shape"
   ]
  },
  {
   "cell_type": "code",
   "execution_count": 75,
   "metadata": {},
   "outputs": [],
   "source": [
    "a = np.random.randn(3, 3)\n",
    "b = np.random.randn(3, 1)\n",
    "c = a*b"
   ]
  },
  {
   "cell_type": "code",
   "execution_count": 76,
   "metadata": {},
   "outputs": [
    {
     "data": {
      "text/plain": [
       "array([[ 1.60129415, -1.77965202,  1.12094772],\n",
       "       [ 1.68797689,  1.16644931,  2.29534239],\n",
       "       [ 0.04456041,  0.06217495, -0.58111311]])"
      ]
     },
     "execution_count": 76,
     "metadata": {},
     "output_type": "execute_result"
    }
   ],
   "source": [
    "c"
   ]
  },
  {
   "cell_type": "code",
   "execution_count": 77,
   "metadata": {},
   "outputs": [],
   "source": [
    "a = np.random.randn(12288, 150) # a.shape = (12288, 150)\n",
    "b = np.random.randn(150, 45) # b.shape = (150, 45)\n",
    "c = np.dot(a,b)"
   ]
  },
  {
   "cell_type": "code",
   "execution_count": null,
   "metadata": {},
   "outputs": [],
   "source": []
  }
 ],
 "metadata": {
  "kernelspec": {
   "display_name": "Python 3",
   "language": "python",
   "name": "python3"
  },
  "language_info": {
   "codemirror_mode": {
    "name": "ipython",
    "version": 3
   },
   "file_extension": ".py",
   "mimetype": "text/x-python",
   "name": "python",
   "nbconvert_exporter": "python",
   "pygments_lexer": "ipython3",
   "version": "3.7.4"
  }
 },
 "nbformat": 4,
 "nbformat_minor": 2
}
