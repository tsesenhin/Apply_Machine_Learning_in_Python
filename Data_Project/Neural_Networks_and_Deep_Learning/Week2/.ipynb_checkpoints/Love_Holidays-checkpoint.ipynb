{
 "cells": [
  {
   "cell_type": "markdown",
   "metadata": {},
   "source": [
    "# Question1\n",
    "## This notebook is divided into 4 parts\n",
    "\n",
    "\n",
    "\n",
    "Step 1: Create Artifical DataFrames\n",
    "\n",
    "Step 2: Formation of the Closest_Hotels Function\n",
    "\n",
    "Step 3: Correct Output\n",
    "\n",
    "Step 4: Incorrect Ouput\n"
   ]
  },
  {
   "cell_type": "code",
   "execution_count": 595,
   "metadata": {},
   "outputs": [],
   "source": [
    "import pandas as pd\n",
    "import numpy as np"
   ]
  },
  {
   "cell_type": "code",
   "execution_count": 596,
   "metadata": {},
   "outputs": [],
   "source": [
    "\n",
    "# Step 1\n",
    "#This section creates 2 identical DataFrames to enable self-Joining later on\n",
    "\n",
    "df1 = pd.DataFrame({\"hotel_id\":[122,323,324,455],\"longitude\":[1.4233,2.4232,5.4321,0.1233], \"latitude\":[1.3231,9.3432,0.1232,0.2543]})\n",
    "df2 =  pd.DataFrame({\"hotel_id\":[122,323,324,455],\"longitude\":[1.4233,2.4232,5.4321,0.1233], \"latitude\":[1.3231,9.3432,0.1232,0.2543]})"
   ]
  },
  {
   "cell_type": "code",
   "execution_count": 597,
   "metadata": {},
   "outputs": [],
   "source": [
    "#Step 2\n",
    "def Closest_Hotels(Table1,Table2,Which_Hotel):\n",
    "\n",
    "#The below creates a helper_column (key column) for both df1 and df2 to join on \"\"\"\n",
    "    Table1['helper_column'] = 1\n",
    "    Table2['helper_column'] = 1\n",
    "    Join=pd.merge(Table1,Table2, on = ['helper_column'])\n",
    "\n",
    "# Note: 'Targeted Hotel' is the Hotel you are enquiry against, and 'Nearby Hotel' is the Hotel that is nearby the Targeted Hotel\n",
    "    \n",
    "\n",
    "# The below creates a long_diff column which is based on the absolute coordinational difference between the Targeted Hotel and a Nearby Hotel in Longitude \n",
    "    Join[\"long_diff\"] = abs(Join[\"longitude_x\"]-Join[\"longitude_y\"])\n",
    "    \n",
    "    \n",
    "    \n",
    "    \n",
    "# The below creates a Lat_diff column which is based on the absolute coordinational difference between the Targeted Hotel and a Nearby Hotel in Latitude\n",
    "    Join[\"Lat_diff\"] = abs(Join[\"latitude_x\"]-Join[\"latitude_y\"])\n",
    "    \n",
    "    \n",
    "    \n",
    "    \n",
    "    \n",
    "# The below creates a Total_diff based on the sum of long_diff + Lat_diff column, in other words, the sum coordinational difference of the Nearby Hotel relative to the Targeted Hotel\n",
    "    Join[\"Total_diff\"] = Join[\"long_diff\"]+Join[\"Lat_diff\"]\n",
    "    \n",
    "    \n",
    "\n",
    "       \n",
    "# The below removes rows with matching values between 'hotel_id_x' and 'hotel_id_y' column in the DataFrame\n",
    "    Join['Matching_Hotel'] = Join['hotel_id_x']!= Join['hotel_id_y']   \n",
    "    Join = Join[(Join.Matching_Hotel == True)]\n",
    "    \n",
    "    \n",
    "# The below filters 'Targeted Hotel' based on user's input as a function argurment\n",
    "    Join = Join[(Join.hotel_id_x == int(Which_Hotel))]\n",
    "    \n",
    "    \n",
    "# Sort based on the Targeted Hotel and its Total_diff from a Nearby Hotel (i.e Nearest Nearby Hotel from the Targeted Hotel would always appear on top of the List)\n",
    "    Join = Join.sort_values(by=[\"hotel_id_x\",\"Total_diff\"])\n",
    "    \n",
    "    \n",
    "# Select Appropriate Columns and Renamed, and set column 'Targeted_Hotel' as index\n",
    "    Closest_Hotel = Join[[\"hotel_id_x\",\"hotel_id_y\",\"Total_diff\"]]\n",
    "    Closest_Hotel = Closest_Hotel.rename(columns={'hotel_id_x':\"Targeted_Hotel\",'hotel_id_y':'Nearby_Hotel','Total_diff':'Coordination_Difference'})\n",
    "    Closest_Hotel = Closest_Hotel.set_index('Targeted_Hotel')\n",
    "    \n",
    "\n",
    "# Throw an Error if the user query a Targeted Hotel that does not exist from the Data Base\n",
    "\n",
    "    if len(Closest_Hotel) ==0:\n",
    "        raise ValueError (\"Sorry, the Targeted Hotel is not in the Database\")\n",
    "\n",
    "  \n",
    "    return Closest_Hotel"
   ]
  },
  {
   "cell_type": "code",
   "execution_count": 598,
   "metadata": {},
   "outputs": [
    {
     "data": {
      "text/html": [
       "<div>\n",
       "<style scoped>\n",
       "    .dataframe tbody tr th:only-of-type {\n",
       "        vertical-align: middle;\n",
       "    }\n",
       "\n",
       "    .dataframe tbody tr th {\n",
       "        vertical-align: top;\n",
       "    }\n",
       "\n",
       "    .dataframe thead th {\n",
       "        text-align: right;\n",
       "    }\n",
       "</style>\n",
       "<table border=\"1\" class=\"dataframe\">\n",
       "  <thead>\n",
       "    <tr style=\"text-align: right;\">\n",
       "      <th></th>\n",
       "      <th>Nearby_Hotel</th>\n",
       "      <th>Coordination_Difference</th>\n",
       "    </tr>\n",
       "    <tr>\n",
       "      <th>Targeted_Hotel</th>\n",
       "      <th></th>\n",
       "      <th></th>\n",
       "    </tr>\n",
       "  </thead>\n",
       "  <tbody>\n",
       "    <tr>\n",
       "      <th>324</th>\n",
       "      <td>122</td>\n",
       "      <td>5.2087</td>\n",
       "    </tr>\n",
       "    <tr>\n",
       "      <th>324</th>\n",
       "      <td>455</td>\n",
       "      <td>5.4399</td>\n",
       "    </tr>\n",
       "    <tr>\n",
       "      <th>324</th>\n",
       "      <td>323</td>\n",
       "      <td>12.2289</td>\n",
       "    </tr>\n",
       "  </tbody>\n",
       "</table>\n",
       "</div>"
      ],
      "text/plain": [
       "                Nearby_Hotel  Coordination_Difference\n",
       "Targeted_Hotel                                       \n",
       "324                      122                   5.2087\n",
       "324                      455                   5.4399\n",
       "324                      323                  12.2289"
      ]
     },
     "execution_count": 598,
     "metadata": {},
     "output_type": "execute_result"
    }
   ],
   "source": [
    "#Step3\n",
    "#The Function outputs a list containing Nearyby Hotels if the user inputs a targeted Hotel that can be found in the Database\n",
    "Closest_Hotels(df1,df2, 324)\n"
   ]
  },
  {
   "cell_type": "code",
   "execution_count": 599,
   "metadata": {},
   "outputs": [
    {
     "ename": "ValueError",
     "evalue": "Sorry, the Targeted Hotel is not in the Database",
     "output_type": "error",
     "traceback": [
      "\u001b[0;31m---------------------------------------------------------------------------\u001b[0m",
      "\u001b[0;31mValueError\u001b[0m                                Traceback (most recent call last)",
      "\u001b[0;32m<ipython-input-599-8c1c3039ca55>\u001b[0m in \u001b[0;36m<module>\u001b[0;34m\u001b[0m\n\u001b[1;32m      1\u001b[0m \u001b[0;31m#Step4\u001b[0m\u001b[0;34m\u001b[0m\u001b[0;34m\u001b[0m\u001b[0;34m\u001b[0m\u001b[0m\n\u001b[1;32m      2\u001b[0m \u001b[0;31m#The Function outputs a ValueError as the Targeted Hotel does not exist in the Database\u001b[0m\u001b[0;34m\u001b[0m\u001b[0;34m\u001b[0m\u001b[0;34m\u001b[0m\u001b[0m\n\u001b[0;32m----> 3\u001b[0;31m \u001b[0mClosest_Hotels\u001b[0m\u001b[0;34m(\u001b[0m\u001b[0mdf1\u001b[0m\u001b[0;34m,\u001b[0m\u001b[0mdf2\u001b[0m\u001b[0;34m,\u001b[0m \u001b[0;36m1\u001b[0m\u001b[0;34m)\u001b[0m\u001b[0;34m\u001b[0m\u001b[0;34m\u001b[0m\u001b[0m\n\u001b[0m\u001b[1;32m      4\u001b[0m \u001b[0;34m\u001b[0m\u001b[0m\n\u001b[1;32m      5\u001b[0m \u001b[0;34m\u001b[0m\u001b[0m\n",
      "\u001b[0;32m<ipython-input-597-71d7eb977e5e>\u001b[0m in \u001b[0;36mClosest_Hotels\u001b[0;34m(Table1, Table2, Which_Hotel)\u001b[0m\n\u001b[1;32m     51\u001b[0m \u001b[0;34m\u001b[0m\u001b[0m\n\u001b[1;32m     52\u001b[0m     \u001b[0;32mif\u001b[0m \u001b[0mlen\u001b[0m\u001b[0;34m(\u001b[0m\u001b[0mClosest_Hotel\u001b[0m\u001b[0;34m)\u001b[0m \u001b[0;34m==\u001b[0m\u001b[0;36m0\u001b[0m\u001b[0;34m:\u001b[0m\u001b[0;34m\u001b[0m\u001b[0;34m\u001b[0m\u001b[0m\n\u001b[0;32m---> 53\u001b[0;31m         \u001b[0;32mraise\u001b[0m \u001b[0mValueError\u001b[0m \u001b[0;34m(\u001b[0m\u001b[0;34m\"Sorry, the Targeted Hotel is not in the Database\"\u001b[0m\u001b[0;34m)\u001b[0m\u001b[0;34m\u001b[0m\u001b[0;34m\u001b[0m\u001b[0m\n\u001b[0m\u001b[1;32m     54\u001b[0m \u001b[0;34m\u001b[0m\u001b[0m\n\u001b[1;32m     55\u001b[0m \u001b[0;34m\u001b[0m\u001b[0m\n",
      "\u001b[0;31mValueError\u001b[0m: Sorry, the Targeted Hotel is not in the Database"
     ]
    }
   ],
   "source": [
    "#Step4\n",
    "#The Function outputs a ValueError as the Targeted Hotel does not exist in the Database\n",
    "Closest_Hotels(df1,df2, 1)\n",
    "\n",
    "\n"
   ]
  },
  {
   "cell_type": "code",
   "execution_count": null,
   "metadata": {},
   "outputs": [],
   "source": []
  },
  {
   "cell_type": "code",
   "execution_count": null,
   "metadata": {},
   "outputs": [],
   "source": []
  }
 ],
 "metadata": {
  "kernelspec": {
   "display_name": "Python 3",
   "language": "python",
   "name": "python3"
  },
  "language_info": {
   "codemirror_mode": {
    "name": "ipython",
    "version": 3
   },
   "file_extension": ".py",
   "mimetype": "text/x-python",
   "name": "python",
   "nbconvert_exporter": "python",
   "pygments_lexer": "ipython3",
   "version": "3.7.4"
  }
 },
 "nbformat": 4,
 "nbformat_minor": 4
}
